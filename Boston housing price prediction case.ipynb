{
 "cells": [
  {
   "cell_type": "markdown",
   "id": "ffda6626",
   "metadata": {},
   "source": [
    "### Boston housing price prediction case\n",
    "Anis Namouchi"
   ]
  },
  {
   "cell_type": "code",
   "execution_count": 1,
   "id": "002d0d52",
   "metadata": {},
   "outputs": [],
   "source": [
    "# Supressing the warning messages\n",
    "import warnings\n",
    "warnings.filterwarnings('ignore')"
   ]
  },
  {
   "cell_type": "code",
   "execution_count": 2,
   "id": "f251220a",
   "metadata": {},
   "outputs": [
    {
     "name": "stdout",
     "output_type": "stream",
     "text": [
      "Shape before deleting duplicate values: (506, 14)\n",
      "Shape After deleting duplicate values: (506, 14)\n"
     ]
    },
    {
     "data": {
      "text/html": [
       "<div>\n",
       "<style scoped>\n",
       "    .dataframe tbody tr th:only-of-type {\n",
       "        vertical-align: middle;\n",
       "    }\n",
       "\n",
       "    .dataframe tbody tr th {\n",
       "        vertical-align: top;\n",
       "    }\n",
       "\n",
       "    .dataframe thead th {\n",
       "        text-align: right;\n",
       "    }\n",
       "</style>\n",
       "<table border=\"1\" class=\"dataframe\">\n",
       "  <thead>\n",
       "    <tr style=\"text-align: right;\">\n",
       "      <th></th>\n",
       "      <th>CRIM</th>\n",
       "      <th>ZN</th>\n",
       "      <th>INDUS</th>\n",
       "      <th>CHAS</th>\n",
       "      <th>NOX</th>\n",
       "      <th>RM</th>\n",
       "      <th>AGE</th>\n",
       "      <th>DIS</th>\n",
       "      <th>RAD</th>\n",
       "      <th>TAX</th>\n",
       "      <th>PTRATIO</th>\n",
       "      <th>B</th>\n",
       "      <th>LSTAT</th>\n",
       "      <th>MEDV</th>\n",
       "    </tr>\n",
       "  </thead>\n",
       "  <tbody>\n",
       "    <tr>\n",
       "      <th>0</th>\n",
       "      <td>0.00632</td>\n",
       "      <td>18.0</td>\n",
       "      <td>2.31</td>\n",
       "      <td>0</td>\n",
       "      <td>0.538</td>\n",
       "      <td>6.575</td>\n",
       "      <td>65.2</td>\n",
       "      <td>4.0900</td>\n",
       "      <td>1</td>\n",
       "      <td>296</td>\n",
       "      <td>15.3</td>\n",
       "      <td>396.90</td>\n",
       "      <td>4.98</td>\n",
       "      <td>24.0</td>\n",
       "    </tr>\n",
       "    <tr>\n",
       "      <th>1</th>\n",
       "      <td>0.02731</td>\n",
       "      <td>0.0</td>\n",
       "      <td>7.07</td>\n",
       "      <td>0</td>\n",
       "      <td>0.469</td>\n",
       "      <td>6.421</td>\n",
       "      <td>78.9</td>\n",
       "      <td>4.9671</td>\n",
       "      <td>2</td>\n",
       "      <td>242</td>\n",
       "      <td>17.8</td>\n",
       "      <td>396.90</td>\n",
       "      <td>9.14</td>\n",
       "      <td>21.6</td>\n",
       "    </tr>\n",
       "    <tr>\n",
       "      <th>2</th>\n",
       "      <td>0.02729</td>\n",
       "      <td>0.0</td>\n",
       "      <td>7.07</td>\n",
       "      <td>0</td>\n",
       "      <td>0.469</td>\n",
       "      <td>7.185</td>\n",
       "      <td>61.1</td>\n",
       "      <td>4.9671</td>\n",
       "      <td>2</td>\n",
       "      <td>242</td>\n",
       "      <td>17.8</td>\n",
       "      <td>392.83</td>\n",
       "      <td>4.03</td>\n",
       "      <td>34.7</td>\n",
       "    </tr>\n",
       "    <tr>\n",
       "      <th>3</th>\n",
       "      <td>0.03237</td>\n",
       "      <td>0.0</td>\n",
       "      <td>2.18</td>\n",
       "      <td>0</td>\n",
       "      <td>0.458</td>\n",
       "      <td>6.998</td>\n",
       "      <td>45.8</td>\n",
       "      <td>6.0622</td>\n",
       "      <td>3</td>\n",
       "      <td>222</td>\n",
       "      <td>18.7</td>\n",
       "      <td>394.63</td>\n",
       "      <td>2.94</td>\n",
       "      <td>33.4</td>\n",
       "    </tr>\n",
       "    <tr>\n",
       "      <th>4</th>\n",
       "      <td>0.06905</td>\n",
       "      <td>0.0</td>\n",
       "      <td>2.18</td>\n",
       "      <td>0</td>\n",
       "      <td>0.458</td>\n",
       "      <td>7.147</td>\n",
       "      <td>54.2</td>\n",
       "      <td>6.0622</td>\n",
       "      <td>3</td>\n",
       "      <td>222</td>\n",
       "      <td>18.7</td>\n",
       "      <td>396.90</td>\n",
       "      <td>5.33</td>\n",
       "      <td>36.2</td>\n",
       "    </tr>\n",
       "    <tr>\n",
       "      <th>5</th>\n",
       "      <td>0.02985</td>\n",
       "      <td>0.0</td>\n",
       "      <td>2.18</td>\n",
       "      <td>0</td>\n",
       "      <td>0.458</td>\n",
       "      <td>6.430</td>\n",
       "      <td>58.7</td>\n",
       "      <td>6.0622</td>\n",
       "      <td>3</td>\n",
       "      <td>222</td>\n",
       "      <td>18.7</td>\n",
       "      <td>394.12</td>\n",
       "      <td>5.21</td>\n",
       "      <td>28.7</td>\n",
       "    </tr>\n",
       "    <tr>\n",
       "      <th>6</th>\n",
       "      <td>0.08829</td>\n",
       "      <td>12.5</td>\n",
       "      <td>7.87</td>\n",
       "      <td>0</td>\n",
       "      <td>0.524</td>\n",
       "      <td>6.012</td>\n",
       "      <td>66.6</td>\n",
       "      <td>5.5605</td>\n",
       "      <td>5</td>\n",
       "      <td>311</td>\n",
       "      <td>15.2</td>\n",
       "      <td>395.60</td>\n",
       "      <td>12.43</td>\n",
       "      <td>22.9</td>\n",
       "    </tr>\n",
       "    <tr>\n",
       "      <th>7</th>\n",
       "      <td>0.14455</td>\n",
       "      <td>12.5</td>\n",
       "      <td>7.87</td>\n",
       "      <td>0</td>\n",
       "      <td>0.524</td>\n",
       "      <td>6.172</td>\n",
       "      <td>96.1</td>\n",
       "      <td>5.9505</td>\n",
       "      <td>5</td>\n",
       "      <td>311</td>\n",
       "      <td>15.2</td>\n",
       "      <td>396.90</td>\n",
       "      <td>19.15</td>\n",
       "      <td>27.1</td>\n",
       "    </tr>\n",
       "    <tr>\n",
       "      <th>8</th>\n",
       "      <td>0.21124</td>\n",
       "      <td>12.5</td>\n",
       "      <td>7.87</td>\n",
       "      <td>0</td>\n",
       "      <td>0.524</td>\n",
       "      <td>5.631</td>\n",
       "      <td>100.0</td>\n",
       "      <td>6.0821</td>\n",
       "      <td>5</td>\n",
       "      <td>311</td>\n",
       "      <td>15.2</td>\n",
       "      <td>386.63</td>\n",
       "      <td>29.93</td>\n",
       "      <td>16.5</td>\n",
       "    </tr>\n",
       "    <tr>\n",
       "      <th>9</th>\n",
       "      <td>0.17004</td>\n",
       "      <td>12.5</td>\n",
       "      <td>7.87</td>\n",
       "      <td>0</td>\n",
       "      <td>0.524</td>\n",
       "      <td>6.004</td>\n",
       "      <td>85.9</td>\n",
       "      <td>6.5921</td>\n",
       "      <td>5</td>\n",
       "      <td>311</td>\n",
       "      <td>15.2</td>\n",
       "      <td>386.71</td>\n",
       "      <td>17.10</td>\n",
       "      <td>18.9</td>\n",
       "    </tr>\n",
       "  </tbody>\n",
       "</table>\n",
       "</div>"
      ],
      "text/plain": [
       "      CRIM    ZN  INDUS  CHAS    NOX     RM    AGE     DIS  RAD  TAX  PTRATIO  \\\n",
       "0  0.00632  18.0   2.31     0  0.538  6.575   65.2  4.0900    1  296     15.3   \n",
       "1  0.02731   0.0   7.07     0  0.469  6.421   78.9  4.9671    2  242     17.8   \n",
       "2  0.02729   0.0   7.07     0  0.469  7.185   61.1  4.9671    2  242     17.8   \n",
       "3  0.03237   0.0   2.18     0  0.458  6.998   45.8  6.0622    3  222     18.7   \n",
       "4  0.06905   0.0   2.18     0  0.458  7.147   54.2  6.0622    3  222     18.7   \n",
       "5  0.02985   0.0   2.18     0  0.458  6.430   58.7  6.0622    3  222     18.7   \n",
       "6  0.08829  12.5   7.87     0  0.524  6.012   66.6  5.5605    5  311     15.2   \n",
       "7  0.14455  12.5   7.87     0  0.524  6.172   96.1  5.9505    5  311     15.2   \n",
       "8  0.21124  12.5   7.87     0  0.524  5.631  100.0  6.0821    5  311     15.2   \n",
       "9  0.17004  12.5   7.87     0  0.524  6.004   85.9  6.5921    5  311     15.2   \n",
       "\n",
       "        B  LSTAT  MEDV  \n",
       "0  396.90   4.98  24.0  \n",
       "1  396.90   9.14  21.6  \n",
       "2  392.83   4.03  34.7  \n",
       "3  394.63   2.94  33.4  \n",
       "4  396.90   5.33  36.2  \n",
       "5  394.12   5.21  28.7  \n",
       "6  395.60  12.43  22.9  \n",
       "7  396.90  19.15  27.1  \n",
       "8  386.63  29.93  16.5  \n",
       "9  386.71  17.10  18.9  "
      ]
     },
     "execution_count": 2,
     "metadata": {},
     "output_type": "execute_result"
    }
   ],
   "source": [
    "# Reading the dataset\n",
    "import pandas as pd\n",
    "import numpy as np\n",
    "BostonData=pd.read_csv('C:/Users/Anis/Desktop/dataset/BostonHousingData.csv', encoding='latin')\n",
    "print('Shape before deleting duplicate values:', BostonData.shape)\n",
    "\n",
    "# Removing duplicate rows if any\n",
    "BostonData=BostonData.drop_duplicates()\n",
    "print('Shape After deleting duplicate values:', BostonData.shape)\n",
    "\n",
    "# Printing sample data\n",
    "# Start observing the Quantitative/Categorical/Qualitative variables\n",
    "BostonData.head(10)"
   ]
  },
  {
   "cell_type": "code",
   "execution_count": 3,
   "id": "03a12645",
   "metadata": {},
   "outputs": [
    {
     "name": "stdout",
     "output_type": "stream",
     "text": [
      "<class 'pandas.core.frame.DataFrame'>\n",
      "Int64Index: 506 entries, 0 to 505\n",
      "Data columns (total 14 columns):\n",
      " #   Column   Non-Null Count  Dtype  \n",
      "---  ------   --------------  -----  \n",
      " 0   CRIM     506 non-null    float64\n",
      " 1   ZN       506 non-null    float64\n",
      " 2   INDUS    506 non-null    float64\n",
      " 3   CHAS     506 non-null    int64  \n",
      " 4   NOX      506 non-null    float64\n",
      " 5   RM       506 non-null    float64\n",
      " 6   AGE      506 non-null    float64\n",
      " 7   DIS      506 non-null    float64\n",
      " 8   RAD      506 non-null    int64  \n",
      " 9   TAX      506 non-null    int64  \n",
      " 10  PTRATIO  506 non-null    float64\n",
      " 11  B        506 non-null    float64\n",
      " 12  LSTAT    506 non-null    float64\n",
      " 13  MEDV     506 non-null    float64\n",
      "dtypes: float64(11), int64(3)\n",
      "memory usage: 59.3 KB\n"
     ]
    }
   ],
   "source": [
    "BostonData.info()"
   ]
  },
  {
   "cell_type": "code",
   "execution_count": 4,
   "id": "07bc1203",
   "metadata": {},
   "outputs": [
    {
     "data": {
      "text/plain": [
       "3.6135235573122535"
      ]
     },
     "execution_count": 4,
     "metadata": {},
     "output_type": "execute_result"
    }
   ],
   "source": [
    "BostonData['CRIM'].mean()"
   ]
  },
  {
   "cell_type": "code",
   "execution_count": 5,
   "id": "358ba19f",
   "metadata": {},
   "outputs": [
    {
     "data": {
      "text/plain": [
       "0.25651"
      ]
     },
     "execution_count": 5,
     "metadata": {},
     "output_type": "execute_result"
    }
   ],
   "source": [
    "BostonData['CRIM'].median()"
   ]
  },
  {
   "cell_type": "code",
   "execution_count": 6,
   "id": "75e0f25a",
   "metadata": {},
   "outputs": [
    {
     "data": {
      "text/plain": [
       "88.9762"
      ]
     },
     "execution_count": 6,
     "metadata": {},
     "output_type": "execute_result"
    }
   ],
   "source": [
    "BostonData['CRIM'].max()"
   ]
  },
  {
   "cell_type": "code",
   "execution_count": 7,
   "id": "8f787a43",
   "metadata": {},
   "outputs": [
    {
     "data": {
      "text/html": [
       "<div>\n",
       "<style scoped>\n",
       "    .dataframe tbody tr th:only-of-type {\n",
       "        vertical-align: middle;\n",
       "    }\n",
       "\n",
       "    .dataframe tbody tr th {\n",
       "        vertical-align: top;\n",
       "    }\n",
       "\n",
       "    .dataframe thead th {\n",
       "        text-align: right;\n",
       "    }\n",
       "</style>\n",
       "<table border=\"1\" class=\"dataframe\">\n",
       "  <thead>\n",
       "    <tr style=\"text-align: right;\">\n",
       "      <th></th>\n",
       "      <th>CRIM</th>\n",
       "      <th>ZN</th>\n",
       "      <th>INDUS</th>\n",
       "      <th>CHAS</th>\n",
       "      <th>NOX</th>\n",
       "      <th>RM</th>\n",
       "      <th>AGE</th>\n",
       "      <th>DIS</th>\n",
       "      <th>RAD</th>\n",
       "      <th>TAX</th>\n",
       "      <th>PTRATIO</th>\n",
       "      <th>B</th>\n",
       "      <th>LSTAT</th>\n",
       "      <th>MEDV</th>\n",
       "    </tr>\n",
       "  </thead>\n",
       "  <tbody>\n",
       "    <tr>\n",
       "      <th>count</th>\n",
       "      <td>506.000000</td>\n",
       "      <td>506.000000</td>\n",
       "      <td>506.000000</td>\n",
       "      <td>506.000000</td>\n",
       "      <td>506.000000</td>\n",
       "      <td>506.000000</td>\n",
       "      <td>506.000000</td>\n",
       "      <td>506.000000</td>\n",
       "      <td>506.000000</td>\n",
       "      <td>506.000000</td>\n",
       "      <td>506.000000</td>\n",
       "      <td>506.000000</td>\n",
       "      <td>506.000000</td>\n",
       "      <td>506.000000</td>\n",
       "    </tr>\n",
       "    <tr>\n",
       "      <th>mean</th>\n",
       "      <td>3.613524</td>\n",
       "      <td>11.363636</td>\n",
       "      <td>11.136779</td>\n",
       "      <td>0.069170</td>\n",
       "      <td>0.554695</td>\n",
       "      <td>6.284634</td>\n",
       "      <td>68.574901</td>\n",
       "      <td>3.795043</td>\n",
       "      <td>9.549407</td>\n",
       "      <td>408.237154</td>\n",
       "      <td>18.455534</td>\n",
       "      <td>356.674032</td>\n",
       "      <td>12.653063</td>\n",
       "      <td>22.532806</td>\n",
       "    </tr>\n",
       "    <tr>\n",
       "      <th>std</th>\n",
       "      <td>8.601545</td>\n",
       "      <td>23.322453</td>\n",
       "      <td>6.860353</td>\n",
       "      <td>0.253994</td>\n",
       "      <td>0.115878</td>\n",
       "      <td>0.702617</td>\n",
       "      <td>28.148861</td>\n",
       "      <td>2.105710</td>\n",
       "      <td>8.707259</td>\n",
       "      <td>168.537116</td>\n",
       "      <td>2.164946</td>\n",
       "      <td>91.294864</td>\n",
       "      <td>7.141062</td>\n",
       "      <td>9.197104</td>\n",
       "    </tr>\n",
       "    <tr>\n",
       "      <th>min</th>\n",
       "      <td>0.006320</td>\n",
       "      <td>0.000000</td>\n",
       "      <td>0.460000</td>\n",
       "      <td>0.000000</td>\n",
       "      <td>0.385000</td>\n",
       "      <td>3.561000</td>\n",
       "      <td>2.900000</td>\n",
       "      <td>1.129600</td>\n",
       "      <td>1.000000</td>\n",
       "      <td>187.000000</td>\n",
       "      <td>12.600000</td>\n",
       "      <td>0.320000</td>\n",
       "      <td>1.730000</td>\n",
       "      <td>5.000000</td>\n",
       "    </tr>\n",
       "    <tr>\n",
       "      <th>25%</th>\n",
       "      <td>0.082045</td>\n",
       "      <td>0.000000</td>\n",
       "      <td>5.190000</td>\n",
       "      <td>0.000000</td>\n",
       "      <td>0.449000</td>\n",
       "      <td>5.885500</td>\n",
       "      <td>45.025000</td>\n",
       "      <td>2.100175</td>\n",
       "      <td>4.000000</td>\n",
       "      <td>279.000000</td>\n",
       "      <td>17.400000</td>\n",
       "      <td>375.377500</td>\n",
       "      <td>6.950000</td>\n",
       "      <td>17.025000</td>\n",
       "    </tr>\n",
       "    <tr>\n",
       "      <th>50%</th>\n",
       "      <td>0.256510</td>\n",
       "      <td>0.000000</td>\n",
       "      <td>9.690000</td>\n",
       "      <td>0.000000</td>\n",
       "      <td>0.538000</td>\n",
       "      <td>6.208500</td>\n",
       "      <td>77.500000</td>\n",
       "      <td>3.207450</td>\n",
       "      <td>5.000000</td>\n",
       "      <td>330.000000</td>\n",
       "      <td>19.050000</td>\n",
       "      <td>391.440000</td>\n",
       "      <td>11.360000</td>\n",
       "      <td>21.200000</td>\n",
       "    </tr>\n",
       "    <tr>\n",
       "      <th>75%</th>\n",
       "      <td>3.677083</td>\n",
       "      <td>12.500000</td>\n",
       "      <td>18.100000</td>\n",
       "      <td>0.000000</td>\n",
       "      <td>0.624000</td>\n",
       "      <td>6.623500</td>\n",
       "      <td>94.075000</td>\n",
       "      <td>5.188425</td>\n",
       "      <td>24.000000</td>\n",
       "      <td>666.000000</td>\n",
       "      <td>20.200000</td>\n",
       "      <td>396.225000</td>\n",
       "      <td>16.955000</td>\n",
       "      <td>25.000000</td>\n",
       "    </tr>\n",
       "    <tr>\n",
       "      <th>max</th>\n",
       "      <td>88.976200</td>\n",
       "      <td>100.000000</td>\n",
       "      <td>27.740000</td>\n",
       "      <td>1.000000</td>\n",
       "      <td>0.871000</td>\n",
       "      <td>8.780000</td>\n",
       "      <td>100.000000</td>\n",
       "      <td>12.126500</td>\n",
       "      <td>24.000000</td>\n",
       "      <td>711.000000</td>\n",
       "      <td>22.000000</td>\n",
       "      <td>396.900000</td>\n",
       "      <td>37.970000</td>\n",
       "      <td>50.000000</td>\n",
       "    </tr>\n",
       "  </tbody>\n",
       "</table>\n",
       "</div>"
      ],
      "text/plain": [
       "             CRIM          ZN       INDUS        CHAS         NOX          RM  \\\n",
       "count  506.000000  506.000000  506.000000  506.000000  506.000000  506.000000   \n",
       "mean     3.613524   11.363636   11.136779    0.069170    0.554695    6.284634   \n",
       "std      8.601545   23.322453    6.860353    0.253994    0.115878    0.702617   \n",
       "min      0.006320    0.000000    0.460000    0.000000    0.385000    3.561000   \n",
       "25%      0.082045    0.000000    5.190000    0.000000    0.449000    5.885500   \n",
       "50%      0.256510    0.000000    9.690000    0.000000    0.538000    6.208500   \n",
       "75%      3.677083   12.500000   18.100000    0.000000    0.624000    6.623500   \n",
       "max     88.976200  100.000000   27.740000    1.000000    0.871000    8.780000   \n",
       "\n",
       "              AGE         DIS         RAD         TAX     PTRATIO           B  \\\n",
       "count  506.000000  506.000000  506.000000  506.000000  506.000000  506.000000   \n",
       "mean    68.574901    3.795043    9.549407  408.237154   18.455534  356.674032   \n",
       "std     28.148861    2.105710    8.707259  168.537116    2.164946   91.294864   \n",
       "min      2.900000    1.129600    1.000000  187.000000   12.600000    0.320000   \n",
       "25%     45.025000    2.100175    4.000000  279.000000   17.400000  375.377500   \n",
       "50%     77.500000    3.207450    5.000000  330.000000   19.050000  391.440000   \n",
       "75%     94.075000    5.188425   24.000000  666.000000   20.200000  396.225000   \n",
       "max    100.000000   12.126500   24.000000  711.000000   22.000000  396.900000   \n",
       "\n",
       "            LSTAT        MEDV  \n",
       "count  506.000000  506.000000  \n",
       "mean    12.653063   22.532806  \n",
       "std      7.141062    9.197104  \n",
       "min      1.730000    5.000000  \n",
       "25%      6.950000   17.025000  \n",
       "50%     11.360000   21.200000  \n",
       "75%     16.955000   25.000000  \n",
       "max     37.970000   50.000000  "
      ]
     },
     "execution_count": 7,
     "metadata": {},
     "output_type": "execute_result"
    }
   ],
   "source": [
    "# Looking at the descriptive statistics of the data\n",
    "BostonData.describe(include='all')"
   ]
  },
  {
   "cell_type": "code",
   "execution_count": 8,
   "id": "f6899115",
   "metadata": {},
   "outputs": [
    {
     "data": {
      "text/plain": [
       "CRIM       504\n",
       "ZN          26\n",
       "INDUS       76\n",
       "CHAS         2\n",
       "NOX         81\n",
       "RM         446\n",
       "AGE        356\n",
       "DIS        412\n",
       "RAD          9\n",
       "TAX         66\n",
       "PTRATIO     46\n",
       "B          357\n",
       "LSTAT      455\n",
       "MEDV       229\n",
       "dtype: int64"
      ]
     },
     "execution_count": 8,
     "metadata": {},
     "output_type": "execute_result"
    }
   ],
   "source": [
    "# Finging unique values for each column\n",
    "# TO understand which column is categorical and which one is Continuous\n",
    "# Typically if the numer of unique values are < 20 then the variable is likely to be a category otherwise continuous\n",
    "BostonData.nunique()"
   ]
  },
  {
   "cell_type": "markdown",
   "id": "1cb8d00a",
   "metadata": {},
   "source": [
    "Visual Exploratory Data Analysis¶\n"
   ]
  },
  {
   "cell_type": "markdown",
   "id": "ac739329",
   "metadata": {},
   "source": [
    "Categorical Predictors:\n"
   ]
  },
  {
   "cell_type": "code",
   "execution_count": 9,
   "id": "5e28e308",
   "metadata": {},
   "outputs": [],
   "source": [
    "# Plotting multiple bar charts at once for categorical variables\n",
    "# Since there is no default function which can plot bar charts for multiple columns at once\n",
    "# we are defining our own function for the same\n",
    "\n",
    "def PlotBarCharts(inpData, colsToPlot):\n",
    "    %matplotlib inline\n",
    "    \n",
    "    import matplotlib.pyplot as plt\n",
    "    \n",
    "    # Generating multiple subplots\n",
    "    fig, subPlot=plt.subplots(nrows=1, ncols=len(colsToPlot), figsize=(20,5))\n",
    "    fig.suptitle('Bar charts of: '+ str(colsToPlot))\n",
    "\n",
    "    for colName, plotNumber in zip(colsToPlot, range(len(colsToPlot))):\n",
    "        inpData.groupby(colName).size().plot(kind='bar',ax=subPlot[plotNumber])"
   ]
  },
  {
   "cell_type": "code",
   "execution_count": 10,
   "id": "40e59c58",
   "metadata": {},
   "outputs": [
    {
     "data": {
      "image/png": "[encoded data removed]",
      "text/plain": [
       "<Figure size 1440x360 with 2 Axes>"
      ]
     },
     "metadata": {
      "needs_background": "light"
     },
     "output_type": "display_data"
    }
   ],
   "source": [
    "# Calling the function\n",
    "PlotBarCharts(inpData=BostonData, colsToPlot=['CHAS','RAD'])"
   ]
  },
  {
   "cell_type": "markdown",
   "id": "b7b78471",
   "metadata": {},
   "source": [
    "Bar Charts Interpretation¶\n"
   ]
  },
  {
   "cell_type": "markdown",
   "id": "e38d9632",
   "metadata": {},
   "source": [
    "These bar charts represent the frequencies of each category in the Y-axis and the category names in the X-axis.\n",
    "\n",
    "In the ideal bar chart each category has comparable frequency. Hence, there are enough rows for each category in the data for the ML algorithm to learn.\n",
    "\n",
    "If there is a column which shows too skewed distribution where there is only one dominant bar and the other categories are present in very low numbers. These kind of columns may not be very helpful in machine learning. We confirm this in the correlation analysis section and take a final call to select or reject the column.\n",
    "\n",
    "In this data, \"CHAS\" is skewed. There is just one bar which is dominating and other one have very less rows. Such columns may not be correlated with the target variable because there is no information to learn. The algorithms cannot find any rule like when the value is this then the target variable is that.\n",
    "\n",
    "Whenever in doubt, always investigate the column further.\n",
    "\n",
    "Selected Categorical Variables: Both the categorical variables are selected for further analysis.\n",
    "\n",
    "'CHAS', 'RAD'"
   ]
  },
  {
   "cell_type": "markdown",
   "id": "29470a32",
   "metadata": {},
   "source": [
    "Visualize distribution of all the Continuous Predictor variables in the data using histograms"
   ]
  },
  {
   "cell_type": "markdown",
   "id": "111e5524",
   "metadata": {},
   "source": [
    "Based on the Basic Data Exploration, there are eleven continuous predictor variables 'CRIM', 'ZN', 'INDUS', 'NOX', 'RM', 'AGE', 'DIS', 'TAX', 'PTRATIO', 'B', and 'LSTAT'."
   ]
  },
  {
   "cell_type": "code",
   "execution_count": 12,
   "id": "ec750dac",
   "metadata": {},
   "outputs": [
    {
     "data": {
      "text/plain": [
       "array([[<AxesSubplot:title={'center':'CRIM'}>,\n",
       "        <AxesSubplot:title={'center':'ZN'}>,\n",
       "        <AxesSubplot:title={'center':'INDUS'}>],\n",
       "       [<AxesSubplot:title={'center':'NOX'}>,\n",
       "        <AxesSubplot:title={'center':'RM'}>,\n",
       "        <AxesSubplot:title={'center':'AGE'}>],\n",
       "       [<AxesSubplot:title={'center':'DIS'}>,\n",
       "        <AxesSubplot:title={'center':'TAX'}>,\n",
       "        <AxesSubplot:title={'center':'PTRATIO'}>],\n",
       "       [<AxesSubplot:title={'center':'B'}>,\n",
       "        <AxesSubplot:title={'center':'LSTAT'}>, <AxesSubplot:>]],\n",
       "      dtype=object)"
      ]
     },
     "execution_count": 12,
     "metadata": {},
     "output_type": "execute_result"
    },
    {
     "data": {
      "image/png": "[encoded data removed]",
      "text/plain": [
       "<Figure size 1296x720 with 12 Axes>"
      ]
     },
     "metadata": {
      "needs_background": "light"
     },
     "output_type": "display_data"
    }
   ],
   "source": [
    "BostonData.hist(['CRIM', 'ZN', 'INDUS', 'NOX', 'RM', 'AGE', 'DIS', 'TAX',\n",
    "                 'PTRATIO', 'B', 'LSTAT'], figsize=(18,10))"
   ]
  },
  {
   "cell_type": "markdown",
   "id": "9a2f1096",
   "metadata": {},
   "source": [
    "### Histogram Interpretation\n"
   ]
  },
  {
   "cell_type": "markdown",
   "id": "ed5e5778",
   "metadata": {},
   "source": [
    "Histograms shows us the data distribution for a single continuous variable.\n",
    "\n",
    "The X-axis shows the range of values and Y-axis represent the number of values in that range. For example, in the above histogram of \"AGE\", there are around 200 rows in data that has age value between 90 to 100.\n",
    "\n",
    "The ideal outcome for histogram is a bell curve or slightly skewed bell curve. If there is too much skewness, then outlier treatment should be done and the column should be re-examined, if that also does not solve the problem then only reject the column."
   ]
  },
  {
   "cell_type": "markdown",
   "id": "b6b29032",
   "metadata": {},
   "source": [
    "### Selected Continuous Variables:\n",
    "\n",
    "1. *`CRIM : Selected. Outliers seen beyond 40, need to treat them.\n",
    "1. *`ZN : Selected. The distribution is good.\n",
    "1. *`INDUS : Selected. The distribution is good.\n",
    "1. *`NOX : Selected. The distribution is good.\n",
    "1. *`RM : Selected. The distribution is good.\n",
    "1. *`AGE : Selected. The distribution is good.\n",
    "1. *`DIS : Selected. The distribution is good.\n",
    "1. *`TAX : Selected. The distribution is good.\n",
    "1. *`PTRATIO : Selected. The distribution is good.\n",
    "1. *`B: Selected. The distribution is good.\n",
    "1. *`LSTAT: Selected. The distribution is good.\n",
    " "
   ]
  },
  {
   "cell_type": "markdown",
   "id": "400be0df",
   "metadata": {},
   "source": [
    "### Replacing outliers for 'CRIM'"
   ]
  },
  {
   "cell_type": "code",
   "execution_count": 14,
   "id": "06b7cf64",
   "metadata": {},
   "outputs": [
    {
     "data": {
      "text/plain": [
       "410    51.13580\n",
       "414    45.74610\n",
       "404    41.52920\n",
       "398    38.35180\n",
       "427    37.66190\n",
       "         ...   \n",
       "55      0.01311\n",
       "341     0.01301\n",
       "285     0.01096\n",
       "284     0.00906\n",
       "0       0.00632\n",
       "Name: CRIM, Length: 503, dtype: float64"
      ]
     },
     "execution_count": 14,
     "metadata": {},
     "output_type": "execute_result"
    }
   ],
   "source": [
    "# Finding nearest values to 60 mark\n",
    "BostonData['CRIM'][BostonData['CRIM']<60].sort_values(ascending=False)"
   ]
  },
  {
   "cell_type": "code",
   "execution_count": 15,
   "id": "b6421634",
   "metadata": {},
   "outputs": [],
   "source": [
    "# Replacing outliers with nearest possibe value\n",
    "BostonData['CRIM'][BostonData['CRIM']>60] =51.13"
   ]
  },
  {
   "cell_type": "markdown",
   "id": "bef6bfe4",
   "metadata": {},
   "source": [
    "### Visualizing distribution after outlier treatment\n",
    "The distribution has improved after the outlier treatment. There is still a tail but it is thick, that means there are many values in that range, hence, it is acceptable.\n",
    "\n"
   ]
  },
  {
   "cell_type": "code",
   "execution_count": 16,
   "id": "b2107bb8",
   "metadata": {},
   "outputs": [
    {
     "data": {
      "text/plain": [
       "array([[<AxesSubplot:title={'center':'CRIM'}>]], dtype=object)"
      ]
     },
     "execution_count": 16,
     "metadata": {},
     "output_type": "execute_result"
    },
    {
     "data": {
      "image/png": "[encoded data removed]",
      "text/plain": [
       "<Figure size 1296x360 with 1 Axes>"
      ]
     },
     "metadata": {
      "needs_background": "light"
     },
     "output_type": "display_data"
    }
   ],
   "source": [
    "BostonData.hist(['CRIM'], figsize=(18,5))\n"
   ]
  },
  {
   "cell_type": "markdown",
   "id": "7761cf1b",
   "metadata": {},
   "source": [
    "### Missing values treatment\n",
    "Missing values are treated for each column separately.\n",
    "\n",
    "\n"
   ]
  },
  {
   "cell_type": "code",
   "execution_count": 17,
   "id": "da124b4a",
   "metadata": {},
   "outputs": [
    {
     "data": {
      "text/plain": [
       "CRIM       0\n",
       "ZN         0\n",
       "INDUS      0\n",
       "CHAS       0\n",
       "NOX        0\n",
       "RM         0\n",
       "AGE        0\n",
       "DIS        0\n",
       "RAD        0\n",
       "TAX        0\n",
       "PTRATIO    0\n",
       "B          0\n",
       "LSTAT      0\n",
       "MEDV       0\n",
       "dtype: int64"
      ]
     },
     "execution_count": 17,
     "metadata": {},
     "output_type": "execute_result"
    }
   ],
   "source": [
    "# Finding how many missing values are there for each column\n",
    "BostonData.isnull().sum()"
   ]
  },
  {
   "cell_type": "markdown",
   "id": "10ca76f7",
   "metadata": {},
   "source": [
    "### Feature Selection\n",
    "\n",
    "Now its time to finally choose the best columns(Features) which are correlated to the Target variable. This can be done directly by measuring the correlation values or ANOVA/Chi-Square tests. However, it is always helpful to visualize the relation between the Target variable and each of the predictors to get a better sense of data."
   ]
  },
  {
   "cell_type": "markdown",
   "id": "6cf099cf",
   "metadata": {},
   "source": [
    "### Relationship exploration: Continuous Vs Continuous -- Scatter Charts\n"
   ]
  },
  {
   "cell_type": "code",
   "execution_count": 18,
   "id": "911132ce",
   "metadata": {},
   "outputs": [],
   "source": [
    "ContinuousCols=['CRIM', 'ZN', 'INDUS', 'NOX', 'RM', 'AGE', 'DIS', 'TAX',\n",
    "                 'PTRATIO', 'B', 'LSTAT']"
   ]
  },
  {
   "cell_type": "code",
   "execution_count": 19,
   "id": "e28c8c0d",
   "metadata": {},
   "outputs": [
    {
     "data": {
      "image/png": "[encoded data removed]",
      "text/plain": [
       "<Figure size 720x360 with 1 Axes>"
      ]
     },
     "metadata": {
      "needs_background": "light"
     },
     "output_type": "display_data"
    },
    {
     "data": {
      "image/png": "[encoded data removed]",
      "text/plain": [
       "<Figure size 720x360 with 1 Axes>"
      ]
     },
     "metadata": {
      "needs_background": "light"
     },
     "output_type": "display_data"
    },
    {
     "data": {
      "image/png": "[encoded data removed]",
      "text/plain": [
       "<Figure size 720x360 with 1 Axes>"
      ]
     },
     "metadata": {
      "needs_background": "light"
     },
     "output_type": "display_data"
    },
    {
     "data": {
      "image/png": "[encoded data removed]",
      "text/plain": [
       "<Figure size 720x360 with 1 Axes>"
      ]
     },
     "metadata": {
      "needs_background": "light"
     },
     "output_type": "display_data"
    },
    {
     "data": {
      "image/png": "[encoded data removed]",
      "text/plain": [
       "<Figure size 720x360 with 1 Axes>"
      ]
     },
     "metadata": {
      "needs_background": "light"
     },
     "output_type": "display_data"
    },
    {
     "data": {
      "image/png": "[encoded data removed]",
      "text/plain": [
       "<Figure size 720x360 with 1 Axes>"
      ]
     },
     "metadata": {
      "needs_background": "light"
     },
     "output_type": "display_data"
    },
    {
     "data": {
      "image/png": "[encoded data removed]",
      "text/plain": [
       "<Figure size 720x360 with 1 Axes>"
      ]
     },
     "metadata": {
      "needs_background": "light"
     },
     "output_type": "display_data"
    },
    {
     "data": {
      "image/png": "[encoded data removed]",
      "text/plain": [
       "<Figure size 720x360 with 1 Axes>"
      ]
     },
     "metadata": {
      "needs_background": "light"
     },
     "output_type": "display_data"
    },
    {
     "data": {
      "image/png": "[encoded data removed]",
      "text/plain": [
       "<Figure size 720x360 with 1 Axes>"
      ]
     },
     "metadata": {
      "needs_background": "light"
     },
     "output_type": "display_data"
    },
    {
     "data": {
      "image/png": "[encoded data removed]",
      "text/plain": [
       "<Figure size 720x360 with 1 Axes>"
      ]
     },
     "metadata": {
      "needs_background": "light"
     },
     "output_type": "display_data"
    },
    {
     "data": {
      "image/png": "[encoded data removed]",
      "text/plain": [
       "<Figure size 720x360 with 1 Axes>"
      ]
     },
     "metadata": {
      "needs_background": "light"
     },
     "output_type": "display_data"
    }
   ],
   "source": [
    "# Plotting scatter chart for each predictor vs the target variable\n",
    "for predictor in ContinuousCols:\n",
    "    BostonData.plot.scatter(x=predictor, y='MEDV', figsize=(10,5), title=predictor+\" VS \"+ 'MEDV')"
   ]
  },
  {
   "cell_type": "markdown",
   "id": "17f8bce6",
   "metadata": {},
   "source": [
    "### Scatter charts interpretation\n"
   ]
  },
  {
   "cell_type": "markdown",
   "id": "3edbf7c1",
   "metadata": {},
   "source": [
    "Trend. You should try to see if there is a visible trend or not. There could be three scenarios\n",
    "\n",
    "1. *`Increasing Trend: This means both variables are positively correlated. In simpler terms, they are directly proportional to each other, if one value increases, other also increases. This is good for ML!\n",
    "\n",
    "1. *`Decreasing Trend: This means both variables are negatively correlated. In simpler terms, they are inversely proportional to each other, if one value increases, other decreases. This is also good for ML!\n",
    "\n",
    "1. *`No Trend: You cannot see any clear increasing or decreasing trend.This means there is no correlation between the variables. Hence the predictor cannot be used for ML.\n",
    "\n",
    "Based on this chart you can get a good idea about the predictor, if it will be useful or not. You confirm this by looking at the correlation value."
   ]
  },
  {
   "cell_type": "markdown",
   "id": "2d85503d",
   "metadata": {},
   "source": [
    "### Statistical Feature Selection (Continuous Vs Continuous) using Correlation value\n"
   ]
  },
  {
   "cell_type": "markdown",
   "id": "5cad6ce1",
   "metadata": {},
   "source": [
    "Pearson's correlation coefficient can simply be calculated as the covariance between two features  x  and  y  (numerator) divided by the product of their standard deviations (denominator):"
   ]
  },
  {
   "cell_type": "code",
   "execution_count": 20,
   "id": "789c8fc8",
   "metadata": {},
   "outputs": [
    {
     "data": {
      "text/html": [
       "<div>\n",
       "<style scoped>\n",
       "    .dataframe tbody tr th:only-of-type {\n",
       "        vertical-align: middle;\n",
       "    }\n",
       "\n",
       "    .dataframe tbody tr th {\n",
       "        vertical-align: top;\n",
       "    }\n",
       "\n",
       "    .dataframe thead th {\n",
       "        text-align: right;\n",
       "    }\n",
       "</style>\n",
       "<table border=\"1\" class=\"dataframe\">\n",
       "  <thead>\n",
       "    <tr style=\"text-align: right;\">\n",
       "      <th></th>\n",
       "      <th>MEDV</th>\n",
       "      <th>CRIM</th>\n",
       "      <th>ZN</th>\n",
       "      <th>INDUS</th>\n",
       "      <th>NOX</th>\n",
       "      <th>RM</th>\n",
       "      <th>AGE</th>\n",
       "      <th>DIS</th>\n",
       "      <th>TAX</th>\n",
       "      <th>PTRATIO</th>\n",
       "      <th>B</th>\n",
       "      <th>LSTAT</th>\n",
       "    </tr>\n",
       "  </thead>\n",
       "  <tbody>\n",
       "    <tr>\n",
       "      <th>MEDV</th>\n",
       "      <td>1.000000</td>\n",
       "      <td>-0.419265</td>\n",
       "      <td>0.360445</td>\n",
       "      <td>-0.483725</td>\n",
       "      <td>-0.427321</td>\n",
       "      <td>0.695360</td>\n",
       "      <td>-0.376955</td>\n",
       "      <td>0.249929</td>\n",
       "      <td>-0.468536</td>\n",
       "      <td>-0.507787</td>\n",
       "      <td>0.333461</td>\n",
       "      <td>-0.737663</td>\n",
       "    </tr>\n",
       "    <tr>\n",
       "      <th>CRIM</th>\n",
       "      <td>-0.419265</td>\n",
       "      <td>1.000000</td>\n",
       "      <td>-0.222332</td>\n",
       "      <td>0.450375</td>\n",
       "      <td>0.466020</td>\n",
       "      <td>-0.257310</td>\n",
       "      <td>0.388784</td>\n",
       "      <td>-0.417941</td>\n",
       "      <td>0.643998</td>\n",
       "      <td>0.319489</td>\n",
       "      <td>-0.429858</td>\n",
       "      <td>0.508483</td>\n",
       "    </tr>\n",
       "    <tr>\n",
       "      <th>ZN</th>\n",
       "      <td>0.360445</td>\n",
       "      <td>-0.222332</td>\n",
       "      <td>1.000000</td>\n",
       "      <td>-0.533828</td>\n",
       "      <td>-0.516604</td>\n",
       "      <td>0.311991</td>\n",
       "      <td>-0.569537</td>\n",
       "      <td>0.664408</td>\n",
       "      <td>-0.314563</td>\n",
       "      <td>-0.391679</td>\n",
       "      <td>0.175520</td>\n",
       "      <td>-0.412995</td>\n",
       "    </tr>\n",
       "    <tr>\n",
       "      <th>INDUS</th>\n",
       "      <td>-0.483725</td>\n",
       "      <td>0.450375</td>\n",
       "      <td>-0.533828</td>\n",
       "      <td>1.000000</td>\n",
       "      <td>0.763651</td>\n",
       "      <td>-0.391676</td>\n",
       "      <td>0.644779</td>\n",
       "      <td>-0.708027</td>\n",
       "      <td>0.720760</td>\n",
       "      <td>0.383248</td>\n",
       "      <td>-0.356977</td>\n",
       "      <td>0.603800</td>\n",
       "    </tr>\n",
       "    <tr>\n",
       "      <th>NOX</th>\n",
       "      <td>-0.427321</td>\n",
       "      <td>0.466020</td>\n",
       "      <td>-0.516604</td>\n",
       "      <td>0.763651</td>\n",
       "      <td>1.000000</td>\n",
       "      <td>-0.302188</td>\n",
       "      <td>0.731470</td>\n",
       "      <td>-0.769230</td>\n",
       "      <td>0.668023</td>\n",
       "      <td>0.188933</td>\n",
       "      <td>-0.380051</td>\n",
       "      <td>0.590879</td>\n",
       "    </tr>\n",
       "    <tr>\n",
       "      <th>RM</th>\n",
       "      <td>0.695360</td>\n",
       "      <td>-0.257310</td>\n",
       "      <td>0.311991</td>\n",
       "      <td>-0.391676</td>\n",
       "      <td>-0.302188</td>\n",
       "      <td>1.000000</td>\n",
       "      <td>-0.240265</td>\n",
       "      <td>0.205246</td>\n",
       "      <td>-0.292048</td>\n",
       "      <td>-0.355501</td>\n",
       "      <td>0.128069</td>\n",
       "      <td>-0.613808</td>\n",
       "    </tr>\n",
       "    <tr>\n",
       "      <th>AGE</th>\n",
       "      <td>-0.376955</td>\n",
       "      <td>0.388784</td>\n",
       "      <td>-0.569537</td>\n",
       "      <td>0.644779</td>\n",
       "      <td>0.731470</td>\n",
       "      <td>-0.240265</td>\n",
       "      <td>1.000000</td>\n",
       "      <td>-0.747881</td>\n",
       "      <td>0.506456</td>\n",
       "      <td>0.261515</td>\n",
       "      <td>-0.273534</td>\n",
       "      <td>0.602339</td>\n",
       "    </tr>\n",
       "    <tr>\n",
       "      <th>DIS</th>\n",
       "      <td>0.249929</td>\n",
       "      <td>-0.417941</td>\n",
       "      <td>0.664408</td>\n",
       "      <td>-0.708027</td>\n",
       "      <td>-0.769230</td>\n",
       "      <td>0.205246</td>\n",
       "      <td>-0.747881</td>\n",
       "      <td>1.000000</td>\n",
       "      <td>-0.534432</td>\n",
       "      <td>-0.232471</td>\n",
       "      <td>0.291512</td>\n",
       "      <td>-0.496996</td>\n",
       "    </tr>\n",
       "    <tr>\n",
       "      <th>TAX</th>\n",
       "      <td>-0.468536</td>\n",
       "      <td>0.643998</td>\n",
       "      <td>-0.314563</td>\n",
       "      <td>0.720760</td>\n",
       "      <td>0.668023</td>\n",
       "      <td>-0.292048</td>\n",
       "      <td>0.506456</td>\n",
       "      <td>-0.534432</td>\n",
       "      <td>1.000000</td>\n",
       "      <td>0.460853</td>\n",
       "      <td>-0.441808</td>\n",
       "      <td>0.543993</td>\n",
       "    </tr>\n",
       "    <tr>\n",
       "      <th>PTRATIO</th>\n",
       "      <td>-0.507787</td>\n",
       "      <td>0.319489</td>\n",
       "      <td>-0.391679</td>\n",
       "      <td>0.383248</td>\n",
       "      <td>0.188933</td>\n",
       "      <td>-0.355501</td>\n",
       "      <td>0.261515</td>\n",
       "      <td>-0.232471</td>\n",
       "      <td>0.460853</td>\n",
       "      <td>1.000000</td>\n",
       "      <td>-0.177383</td>\n",
       "      <td>0.374044</td>\n",
       "    </tr>\n",
       "    <tr>\n",
       "      <th>B</th>\n",
       "      <td>0.333461</td>\n",
       "      <td>-0.429858</td>\n",
       "      <td>0.175520</td>\n",
       "      <td>-0.356977</td>\n",
       "      <td>-0.380051</td>\n",
       "      <td>0.128069</td>\n",
       "      <td>-0.273534</td>\n",
       "      <td>0.291512</td>\n",
       "      <td>-0.441808</td>\n",
       "      <td>-0.177383</td>\n",
       "      <td>1.000000</td>\n",
       "      <td>-0.366087</td>\n",
       "    </tr>\n",
       "    <tr>\n",
       "      <th>LSTAT</th>\n",
       "      <td>-0.737663</td>\n",
       "      <td>0.508483</td>\n",
       "      <td>-0.412995</td>\n",
       "      <td>0.603800</td>\n",
       "      <td>0.590879</td>\n",
       "      <td>-0.613808</td>\n",
       "      <td>0.602339</td>\n",
       "      <td>-0.496996</td>\n",
       "      <td>0.543993</td>\n",
       "      <td>0.374044</td>\n",
       "      <td>-0.366087</td>\n",
       "      <td>1.000000</td>\n",
       "    </tr>\n",
       "  </tbody>\n",
       "</table>\n",
       "</div>"
      ],
      "text/plain": [
       "             MEDV      CRIM        ZN     INDUS       NOX        RM       AGE  \\\n",
       "MEDV     1.000000 -0.419265  0.360445 -0.483725 -0.427321  0.695360 -0.376955   \n",
       "CRIM    -0.419265  1.000000 -0.222332  0.450375  0.466020 -0.257310  0.388784   \n",
       "ZN       0.360445 -0.222332  1.000000 -0.533828 -0.516604  0.311991 -0.569537   \n",
       "INDUS   -0.483725  0.450375 -0.533828  1.000000  0.763651 -0.391676  0.644779   \n",
       "NOX     -0.427321  0.466020 -0.516604  0.763651  1.000000 -0.302188  0.731470   \n",
       "RM       0.695360 -0.257310  0.311991 -0.391676 -0.302188  1.000000 -0.240265   \n",
       "AGE     -0.376955  0.388784 -0.569537  0.644779  0.731470 -0.240265  1.000000   \n",
       "DIS      0.249929 -0.417941  0.664408 -0.708027 -0.769230  0.205246 -0.747881   \n",
       "TAX     -0.468536  0.643998 -0.314563  0.720760  0.668023 -0.292048  0.506456   \n",
       "PTRATIO -0.507787  0.319489 -0.391679  0.383248  0.188933 -0.355501  0.261515   \n",
       "B        0.333461 -0.429858  0.175520 -0.356977 -0.380051  0.128069 -0.273534   \n",
       "LSTAT   -0.737663  0.508483 -0.412995  0.603800  0.590879 -0.613808  0.602339   \n",
       "\n",
       "              DIS       TAX   PTRATIO         B     LSTAT  \n",
       "MEDV     0.249929 -0.468536 -0.507787  0.333461 -0.737663  \n",
       "CRIM    -0.417941  0.643998  0.319489 -0.429858  0.508483  \n",
       "ZN       0.664408 -0.314563 -0.391679  0.175520 -0.412995  \n",
       "INDUS   -0.708027  0.720760  0.383248 -0.356977  0.603800  \n",
       "NOX     -0.769230  0.668023  0.188933 -0.380051  0.590879  \n",
       "RM       0.205246 -0.292048 -0.355501  0.128069 -0.613808  \n",
       "AGE     -0.747881  0.506456  0.261515 -0.273534  0.602339  \n",
       "DIS      1.000000 -0.534432 -0.232471  0.291512 -0.496996  \n",
       "TAX     -0.534432  1.000000  0.460853 -0.441808  0.543993  \n",
       "PTRATIO -0.232471  0.460853  1.000000 -0.177383  0.374044  \n",
       "B        0.291512 -0.441808 -0.177383  1.000000 -0.366087  \n",
       "LSTAT   -0.496996  0.543993  0.374044 -0.366087  1.000000  "
      ]
     },
     "execution_count": 20,
     "metadata": {},
     "output_type": "execute_result"
    }
   ],
   "source": [
    "# Calculating correlation matrix\n",
    "ContinuousCols=['MEDV','CRIM', 'ZN', 'INDUS', 'NOX', 'RM', 'AGE', 'DIS', 'TAX',\n",
    "                 'PTRATIO', 'B', 'LSTAT']\n",
    "\n",
    "# Creating the correlation matrix\n",
    "CorrelationData=BostonData[ContinuousCols].corr()\n",
    "CorrelationData"
   ]
  },
  {
   "cell_type": "code",
   "execution_count": 21,
   "id": "d72d5371",
   "metadata": {},
   "outputs": [
    {
     "data": {
      "text/plain": [
       "MEDV       1.000000\n",
       "RM         0.695360\n",
       "PTRATIO   -0.507787\n",
       "LSTAT     -0.737663\n",
       "Name: MEDV, dtype: float64"
      ]
     },
     "execution_count": 21,
     "metadata": {},
     "output_type": "execute_result"
    }
   ],
   "source": [
    "# Filtering only those columns where absolute correlation > 0.5 with Target Variable\n",
    "# reduce the 0.5 threshold if no variable is selected\n",
    "CorrelationData['MEDV'][abs(CorrelationData['MEDV']) > 0.5 ]"
   ]
  },
  {
   "cell_type": "markdown",
   "id": "ce9f9fc7",
   "metadata": {},
   "source": [
    "### Relationship exploration: Categorical Vs Continuous -- Box Plots\n"
   ]
  },
  {
   "cell_type": "code",
   "execution_count": 22,
   "id": "ffc24118",
   "metadata": {},
   "outputs": [
    {
     "data": {
      "image/png": "[encoded data removed]",
      "text/plain": [
       "<Figure size 1296x360 with 2 Axes>"
      ]
     },
     "metadata": {
      "needs_background": "light"
     },
     "output_type": "display_data"
    }
   ],
   "source": [
    "# Box plots for continuous Target Variable \"MEDV\" and Categorical predictors\n",
    "CategoricalColsList=['RAD', 'CHAS']\n",
    "\n",
    "import matplotlib.pyplot as plt\n",
    "fig, PlotCanvas=plt.subplots(nrows=1, ncols=len(CategoricalColsList), figsize=(18,5))\n",
    "\n",
    "# Creating box plots for each continuous predictor against the Target Variable \"MEDV\"\n",
    "for PredictorCol , i in zip(CategoricalColsList, range(len(CategoricalColsList))):\n",
    "    BostonData.boxplot(column='MEDV', by=PredictorCol, figsize=(5,5), vert=True, ax=PlotCanvas[i])"
   ]
  },
  {
   "cell_type": "markdown",
   "id": "08f1875a",
   "metadata": {},
   "source": [
    "### Statistical Feature Selection (Categorical Vs Continuous) using ANOVA test\n"
   ]
  },
  {
   "cell_type": "code",
   "execution_count": 23,
   "id": "9667bc71",
   "metadata": {},
   "outputs": [],
   "source": [
    "# Defining a function to find the statistical relationship with all the categorical variables\n",
    "def FunctionAnova(inpData, TargetVariable, CategoricalPredictorList):\n",
    "    from scipy.stats import f_oneway"
   ]
  },
  {
   "cell_type": "code",
   "execution_count": 24,
   "id": "9e6878e7",
   "metadata": {},
   "outputs": [],
   "source": [
    "# Defining a function to find the statistical relationship with all the categorical variables\n",
    "def FunctionAnova(inpData, TargetVariable, CategoricalPredictorList):\n",
    "    from scipy.stats import f_oneway\n",
    "\n",
    "    # Creating an empty list of final selected predictors\n",
    "    SelectedPredictors=[]\n",
    "    \n",
    "    print('##### ANOVA Results ##### \\n')\n",
    "    for predictor in CategoricalPredictorList:\n",
    "        CategoryGroupLists=inpData.groupby(predictor)[TargetVariable].apply(list)\n",
    "        AnovaResults = f_oneway(*CategoryGroupLists)\n",
    "        \n",
    "        # If the ANOVA P-Value is <0.05, that means we reject H0\n",
    "        if (AnovaResults[1] < 0.05):\n",
    "            print(predictor, 'is correlated with', TargetVariable, '| P-Value:', AnovaResults[1])\n",
    "            SelectedPredictors.append(predictor)\n",
    "        else:\n",
    "            print(predictor, 'is NOT correlated with', TargetVariable, '| P-Value:', AnovaResults[1])\n",
    "    \n",
    "    return(SelectedPredictors)"
   ]
  },
  {
   "cell_type": "code",
   "execution_count": 25,
   "id": "b250ad4a",
   "metadata": {},
   "outputs": [
    {
     "name": "stdout",
     "output_type": "stream",
     "text": [
      "##### ANOVA Results ##### \n",
      "\n",
      "RAD is correlated with MEDV | P-Value: 3.1256493316010175e-24\n",
      "CHAS is correlated with MEDV | P-Value: 7.390623170520815e-05\n"
     ]
    },
    {
     "data": {
      "text/plain": [
       "['RAD', 'CHAS']"
      ]
     },
     "execution_count": 25,
     "metadata": {},
     "output_type": "execute_result"
    }
   ],
   "source": [
    "# Calling the function to check which categorical variables are correlated with target\n",
    "CategoricalPredictorList=['RAD', 'CHAS']\n",
    "FunctionAnova(inpData=BostonData, \n",
    "              TargetVariable='MEDV', \n",
    "              CategoricalPredictorList=CategoricalPredictorList)"
   ]
  },
  {
   "cell_type": "markdown",
   "id": "df84918b",
   "metadata": {},
   "source": [
    "The results of ANOVA confirm our visual analysis using box plots above.\n",
    "\n",
    "All categorical variables are correlated with the Target variable. This is something we guessed by looking at the box plots!"
   ]
  },
  {
   "cell_type": "code",
   "execution_count": 26,
   "id": "6b15376b",
   "metadata": {},
   "outputs": [
    {
     "data": {
      "text/html": [
       "<div>\n",
       "<style scoped>\n",
       "    .dataframe tbody tr th:only-of-type {\n",
       "        vertical-align: middle;\n",
       "    }\n",
       "\n",
       "    .dataframe tbody tr th {\n",
       "        vertical-align: top;\n",
       "    }\n",
       "\n",
       "    .dataframe thead th {\n",
       "        text-align: right;\n",
       "    }\n",
       "</style>\n",
       "<table border=\"1\" class=\"dataframe\">\n",
       "  <thead>\n",
       "    <tr style=\"text-align: right;\">\n",
       "      <th></th>\n",
       "      <th>RM</th>\n",
       "      <th>PTRATIO</th>\n",
       "      <th>LSTAT</th>\n",
       "      <th>RAD</th>\n",
       "      <th>CHAS</th>\n",
       "    </tr>\n",
       "  </thead>\n",
       "  <tbody>\n",
       "    <tr>\n",
       "      <th>0</th>\n",
       "      <td>6.575</td>\n",
       "      <td>15.3</td>\n",
       "      <td>4.98</td>\n",
       "      <td>1</td>\n",
       "      <td>0</td>\n",
       "    </tr>\n",
       "    <tr>\n",
       "      <th>1</th>\n",
       "      <td>6.421</td>\n",
       "      <td>17.8</td>\n",
       "      <td>9.14</td>\n",
       "      <td>2</td>\n",
       "      <td>0</td>\n",
       "    </tr>\n",
       "    <tr>\n",
       "      <th>2</th>\n",
       "      <td>7.185</td>\n",
       "      <td>17.8</td>\n",
       "      <td>4.03</td>\n",
       "      <td>2</td>\n",
       "      <td>0</td>\n",
       "    </tr>\n",
       "    <tr>\n",
       "      <th>3</th>\n",
       "      <td>6.998</td>\n",
       "      <td>18.7</td>\n",
       "      <td>2.94</td>\n",
       "      <td>3</td>\n",
       "      <td>0</td>\n",
       "    </tr>\n",
       "    <tr>\n",
       "      <th>4</th>\n",
       "      <td>7.147</td>\n",
       "      <td>18.7</td>\n",
       "      <td>5.33</td>\n",
       "      <td>3</td>\n",
       "      <td>0</td>\n",
       "    </tr>\n",
       "  </tbody>\n",
       "</table>\n",
       "</div>"
      ],
      "text/plain": [
       "      RM  PTRATIO  LSTAT  RAD  CHAS\n",
       "0  6.575     15.3   4.98    1     0\n",
       "1  6.421     17.8   9.14    2     0\n",
       "2  7.185     17.8   4.03    2     0\n",
       "3  6.998     18.7   2.94    3     0\n",
       "4  7.147     18.7   5.33    3     0"
      ]
     },
     "execution_count": 26,
     "metadata": {},
     "output_type": "execute_result"
    }
   ],
   "source": [
    "SelectedColumns=['RM', 'PTRATIO','LSTAT', 'RAD', 'CHAS']\n",
    "\n",
    "# Selecting final columns\n",
    "DataForML=BostonData[SelectedColumns]\n",
    "DataForML.head()"
   ]
  },
  {
   "cell_type": "code",
   "execution_count": 27,
   "id": "308e3ae5",
   "metadata": {},
   "outputs": [],
   "source": [
    "# Saving this final data for reference during deployment\n",
    "DataForML.to_pickle('DataForML.pkl')"
   ]
  },
  {
   "cell_type": "code",
   "execution_count": 28,
   "id": "7a3ab4b2",
   "metadata": {},
   "outputs": [
    {
     "data": {
      "text/html": [
       "<div>\n",
       "<style scoped>\n",
       "    .dataframe tbody tr th:only-of-type {\n",
       "        vertical-align: middle;\n",
       "    }\n",
       "\n",
       "    .dataframe tbody tr th {\n",
       "        vertical-align: top;\n",
       "    }\n",
       "\n",
       "    .dataframe thead th {\n",
       "        text-align: right;\n",
       "    }\n",
       "</style>\n",
       "<table border=\"1\" class=\"dataframe\">\n",
       "  <thead>\n",
       "    <tr style=\"text-align: right;\">\n",
       "      <th></th>\n",
       "      <th>RM</th>\n",
       "      <th>PTRATIO</th>\n",
       "      <th>LSTAT</th>\n",
       "      <th>RAD</th>\n",
       "      <th>CHAS</th>\n",
       "      <th>MEDV</th>\n",
       "    </tr>\n",
       "  </thead>\n",
       "  <tbody>\n",
       "    <tr>\n",
       "      <th>0</th>\n",
       "      <td>6.575</td>\n",
       "      <td>15.3</td>\n",
       "      <td>4.98</td>\n",
       "      <td>1</td>\n",
       "      <td>0</td>\n",
       "      <td>24.0</td>\n",
       "    </tr>\n",
       "    <tr>\n",
       "      <th>1</th>\n",
       "      <td>6.421</td>\n",
       "      <td>17.8</td>\n",
       "      <td>9.14</td>\n",
       "      <td>2</td>\n",
       "      <td>0</td>\n",
       "      <td>21.6</td>\n",
       "    </tr>\n",
       "    <tr>\n",
       "      <th>2</th>\n",
       "      <td>7.185</td>\n",
       "      <td>17.8</td>\n",
       "      <td>4.03</td>\n",
       "      <td>2</td>\n",
       "      <td>0</td>\n",
       "      <td>34.7</td>\n",
       "    </tr>\n",
       "    <tr>\n",
       "      <th>3</th>\n",
       "      <td>6.998</td>\n",
       "      <td>18.7</td>\n",
       "      <td>2.94</td>\n",
       "      <td>3</td>\n",
       "      <td>0</td>\n",
       "      <td>33.4</td>\n",
       "    </tr>\n",
       "    <tr>\n",
       "      <th>4</th>\n",
       "      <td>7.147</td>\n",
       "      <td>18.7</td>\n",
       "      <td>5.33</td>\n",
       "      <td>3</td>\n",
       "      <td>0</td>\n",
       "      <td>36.2</td>\n",
       "    </tr>\n",
       "  </tbody>\n",
       "</table>\n",
       "</div>"
      ],
      "text/plain": [
       "      RM  PTRATIO  LSTAT  RAD  CHAS  MEDV\n",
       "0  6.575     15.3   4.98    1     0  24.0\n",
       "1  6.421     17.8   9.14    2     0  21.6\n",
       "2  7.185     17.8   4.03    2     0  34.7\n",
       "3  6.998     18.7   2.94    3     0  33.4\n",
       "4  7.147     18.7   5.33    3     0  36.2"
      ]
     },
     "execution_count": 28,
     "metadata": {},
     "output_type": "execute_result"
    }
   ],
   "source": [
    "# Treating all the nominal variables at once using dummy variables\n",
    "DataForML_Numeric=pd.get_dummies(DataForML)\n",
    "\n",
    "# Adding Target Variable to the data\n",
    "DataForML_Numeric['MEDV']=BostonData['MEDV']\n",
    "\n",
    "# Printing sample rows\n",
    "DataForML_Numeric.head()"
   ]
  },
  {
   "cell_type": "code",
   "execution_count": 31,
   "id": "dfc6362b",
   "metadata": {},
   "outputs": [
    {
     "data": {
      "text/plain": [
       "Index(['RM', 'PTRATIO', 'LSTAT', 'RAD', 'CHAS', 'MEDV'], dtype='object')"
      ]
     },
     "execution_count": 31,
     "metadata": {},
     "output_type": "execute_result"
    }
   ],
   "source": [
    "# Printing all the column names for our reference\n",
    "DataForML_Numeric.columns"
   ]
  },
  {
   "cell_type": "code",
   "execution_count": 32,
   "id": "feb400a7",
   "metadata": {},
   "outputs": [],
   "source": [
    "# Separate Target Variable and Predictor Variables\n",
    "TargetVariable='MEDV'\n",
    "Predictors=['RM', 'PTRATIO', 'LSTAT', 'RAD', 'CHAS']\n",
    "\n",
    "X=DataForML_Numeric[Predictors].values\n",
    "y=DataForML_Numeric[TargetVariable].values\n",
    "\n",
    "# Split the data into training and testing set\n",
    "from sklearn.model_selection import train_test_split\n",
    "X_train, X_test, y_train, y_test = train_test_split(X, y, test_size=0.3, random_state=428)"
   ]
  },
  {
   "cell_type": "markdown",
   "id": "15cc76fc",
   "metadata": {},
   "source": [
    "### Standardization/Normalization of data\n"
   ]
  },
  {
   "cell_type": "code",
   "execution_count": 33,
   "id": "3c3d2c1c",
   "metadata": {},
   "outputs": [],
   "source": [
    "### Sandardization of data ###\n",
    "from sklearn.preprocessing import StandardScaler, MinMaxScaler\n",
    "# Choose either standardization or Normalization\n",
    "# On this data Min Max Normalization produced better results\n",
    "\n",
    "# Choose between standardization and MinMAx normalization\n",
    "#PredictorScaler=StandardScaler()\n",
    "PredictorScaler=MinMaxScaler()\n",
    "\n",
    "# Storing the fit object for later reference\n",
    "PredictorScalerFit=PredictorScaler.fit(X)\n",
    "\n",
    "# Generating the standardized values of X\n",
    "X=PredictorScalerFit.transform(X)\n",
    "\n",
    "# Split the data into training and testing set\n",
    "from sklearn.model_selection import train_test_split\n",
    "X_train, X_test, y_train, y_test = train_test_split(X, y, test_size=0.3, random_state=42)"
   ]
  },
  {
   "cell_type": "code",
   "execution_count": 34,
   "id": "f9dc8ce7",
   "metadata": {},
   "outputs": [
    {
     "name": "stdout",
     "output_type": "stream",
     "text": [
      "(354, 5)\n",
      "(354,)\n",
      "(152, 5)\n",
      "(152,)\n"
     ]
    }
   ],
   "source": [
    "# Sanity check for the sampled data\n",
    "print(X_train.shape)\n",
    "print(y_train.shape)\n",
    "print(X_test.shape)\n",
    "print(y_test.shape)"
   ]
  },
  {
   "cell_type": "markdown",
   "id": "d5da7dfe",
   "metadata": {},
   "source": [
    "### Multiple Linear Regression"
   ]
  },
  {
   "cell_type": "code",
   "execution_count": 35,
   "id": "90cb70df",
   "metadata": {},
   "outputs": [
    {
     "name": "stdout",
     "output_type": "stream",
     "text": [
      "LinearRegression()\n",
      "R2 Value: 0.6980461431155771\n",
      "\n",
      "##### Model Validation and Accuracy Calculations ##########\n",
      "         RM   PTRATIO     LSTAT       RAD  CHAS  MEDV  PredictedMEDV\n",
      "0  0.547040  0.425532  0.201711  0.173913   0.0  23.6           27.0\n",
      "1  0.612569  0.531915  0.049669  0.130435   1.0  32.4           35.0\n",
      "2  0.464074  0.797872  0.450883  0.130435   0.0  13.6           16.0\n",
      "3  0.479785  0.702128  0.104581  0.130435   0.0  22.8           25.0\n",
      "4  0.524238  0.808511  0.428808  1.000000   0.0  16.1           18.0\n",
      "Mean Accuracy on test data: 81.80618534324392\n",
      "Median Accuracy on test data: 88.88888888888889\n",
      "\n",
      "Accuracy values for 10-fold Cross Validation:\n",
      " [88.78472351 90.01462311 82.93367348 82.14573469 86.66783537 88.63411206\n",
      " 84.88621233 48.83600797 51.6418211  85.29449921]\n",
      "\n",
      "Final Average Accuracy of the model: 78.98\n"
     ]
    }
   ],
   "source": [
    "# Multiple Linear Regression\n",
    "from sklearn.linear_model import LinearRegression\n",
    "RegModel = LinearRegression()\n",
    "\n",
    "# Printing all the parameters of Linear regression\n",
    "print(RegModel)\n",
    "\n",
    "# Creating the model on Training Data\n",
    "LREG=RegModel.fit(X_train,y_train)\n",
    "prediction=LREG.predict(X_test)\n",
    "\n",
    "from sklearn import metrics\n",
    "# Measuring Goodness of fit in Training data\n",
    "print('R2 Value:',metrics.r2_score(y_train, LREG.predict(X_train)))\n",
    "\n",
    "###########################################################################\n",
    "print('\\n##### Model Validation and Accuracy Calculations ##########')\n",
    "\n",
    "# Printing some sample values of prediction\n",
    "TestingDataResults=pd.DataFrame(data=X_test, columns=Predictors)\n",
    "TestingDataResults[TargetVariable]=y_test\n",
    "TestingDataResults[('Predicted'+TargetVariable)]=np.round(prediction)\n",
    "\n",
    "# Printing sample prediction values\n",
    "print(TestingDataResults.head())\n",
    "\n",
    "# Calculating the error for each row\n",
    "TestingDataResults['APE']=100 * ((abs(\n",
    "  TestingDataResults['MEDV']-TestingDataResults['PredictedMEDV']))/TestingDataResults['MEDV'])\n",
    "\n",
    "MAPE=np.mean(TestingDataResults['APE'])\n",
    "MedianMAPE=np.median(TestingDataResults['APE'])\n",
    "\n",
    "Accuracy =100 - MAPE\n",
    "MedianAccuracy=100- MedianMAPE\n",
    "print('Mean Accuracy on test data:', Accuracy) # Can be negative sometimes due to outlier\n",
    "print('Median Accuracy on test data:', MedianAccuracy)\n",
    "\n",
    "# Defining a custom function to calculate accuracy\n",
    "# Make sure there are no zeros in the Target variable if you are using MAPE\n",
    "def Accuracy_Score(orig,pred):\n",
    "    MAPE = np.mean(100 * (np.abs(orig-pred)/orig))\n",
    "    #print('#'*70,'Accuracy:', 100-MAPE)\n",
    "    return(100-MAPE)\n",
    "\n",
    "# Custom Scoring MAPE calculation\n",
    "from sklearn.metrics import make_scorer\n",
    "custom_Scoring=make_scorer(Accuracy_Score, greater_is_better=True)\n",
    "\n",
    "# Importing cross validation function from sklearn\n",
    "from sklearn.model_selection import cross_val_score\n",
    "\n",
    "# Running 10-Fold Cross validation on a given algorithm\n",
    "# Passing full data X and y because the K-fold will split the data and automatically choose train/test\n",
    "Accuracy_Values=cross_val_score(RegModel, X , y, cv=10, scoring=custom_Scoring)\n",
    "print('\\nAccuracy values for 10-fold Cross Validation:\\n',Accuracy_Values)\n",
    "print('\\nFinal Average Accuracy of the model:', round(Accuracy_Values.mean(),2))"
   ]
  },
  {
   "cell_type": "markdown",
   "id": "cb1686f0",
   "metadata": {},
   "source": [
    "### Decision Trees\n"
   ]
  },
  {
   "cell_type": "code",
   "execution_count": 36,
   "id": "39c7fb1c",
   "metadata": {},
   "outputs": [
    {
     "name": "stdout",
     "output_type": "stream",
     "text": [
      "DecisionTreeRegressor(criterion='mse', max_depth=5)\n",
      "R2 Value: 0.900709602721074\n",
      "\n",
      "##### Model Validation and Accuracy Calculations ##########\n",
      "         RM   PTRATIO     LSTAT       RAD  CHAS  MEDV  PredictedMEDV\n",
      "0  0.547040  0.425532  0.201711  0.173913   0.0  23.6           22.0\n",
      "1  0.612569  0.531915  0.049669  0.130435   1.0  32.4           30.0\n",
      "2  0.464074  0.797872  0.450883  0.130435   0.0  13.6           16.0\n",
      "3  0.479785  0.702128  0.104581  0.130435   0.0  22.8           25.0\n",
      "4  0.524238  0.808511  0.428808  1.000000   0.0  16.1           16.0\n",
      "Mean Accuracy on test data: 84.90486272960791\n",
      "Median Accuracy on test data: 89.73677103027029\n",
      "\n",
      "Accuracy values for 10-fold Cross Validation:\n",
      " [87.26540355 91.67430612 87.77262804 86.87328743 87.954766   88.55537494\n",
      " 88.56381116 59.35419294 74.27758535 72.14692681]\n",
      "\n",
      "Final Average Accuracy of the model: 82.44\n"
     ]
    },
    {
     "data": {
      "image/png": "[encoded data removed]",
      "text/plain": [
       "<Figure size 432x288 with 1 Axes>"
      ]
     },
     "metadata": {
      "needs_background": "light"
     },
     "output_type": "display_data"
    }
   ],
   "source": [
    "# Decision Trees (Multiple if-else statements!)\n",
    "from sklearn.tree import DecisionTreeRegressor\n",
    "RegModel = DecisionTreeRegressor(max_depth=5,criterion='mse')\n",
    "# Good Range of Max_depth = 2 to 20\n",
    "\n",
    "# Printing all the parameters of Decision Tree\n",
    "print(RegModel)\n",
    "\n",
    "# Creating the model on Training Data\n",
    "DT=RegModel.fit(X_train,y_train)\n",
    "prediction=DT.predict(X_test)\n",
    "\n",
    "from sklearn import metrics\n",
    "# Measuring Goodness of fit in Training data\n",
    "print('R2 Value:',metrics.r2_score(y_train, DT.predict(X_train)))\n",
    "\n",
    "# Plotting the feature importance for Top 10 most important columns\n",
    "%matplotlib inline\n",
    "feature_importances = pd.Series(DT.feature_importances_, index=Predictors)\n",
    "feature_importances.nlargest(10).plot(kind='barh')\n",
    "\n",
    "###########################################################################\n",
    "print('\\n##### Model Validation and Accuracy Calculations ##########')\n",
    "\n",
    "# Printing some sample values of prediction\n",
    "TestingDataResults=pd.DataFrame(data=X_test, columns=Predictors)\n",
    "TestingDataResults[TargetVariable]=y_test\n",
    "TestingDataResults[('Predicted'+TargetVariable)]=np.round(prediction)\n",
    "\n",
    "# Printing sample prediction values\n",
    "print(TestingDataResults.head())\n",
    "\n",
    "# Calculating the error for each row\n",
    "TestingDataResults['APE']=100 * ((abs(\n",
    "  TestingDataResults['MEDV']-TestingDataResults['PredictedMEDV']))/TestingDataResults['MEDV'])\n",
    "\n",
    "MAPE=np.mean(TestingDataResults['APE'])\n",
    "MedianMAPE=np.median(TestingDataResults['APE'])\n",
    "\n",
    "Accuracy =100 - MAPE\n",
    "MedianAccuracy=100- MedianMAPE\n",
    "print('Mean Accuracy on test data:', Accuracy) # Can be negative sometimes due to outlier\n",
    "print('Median Accuracy on test data:', MedianAccuracy)\n",
    "\n",
    "# Defining a custom function to calculate accuracy\n",
    "# Make sure there are no zeros in the Target variable if you are using MAPE\n",
    "def Accuracy_Score(orig,pred):\n",
    "    MAPE = np.mean(100 * (np.abs(orig-pred)/orig))\n",
    "    #print('#'*70,'Accuracy:', 100-MAPE)\n",
    "    return(100-MAPE)\n",
    "\n",
    "# Custom Scoring MAPE calculation\n",
    "from sklearn.metrics import make_scorer\n",
    "custom_Scoring=make_scorer(Accuracy_Score, greater_is_better=True)\n",
    "\n",
    "# Importing cross validation function from sklearn\n",
    "from sklearn.model_selection import cross_val_score\n",
    "\n",
    "# Running 10-Fold Cross validation on a given algorithm\n",
    "# Passing full data X and y because the K-fold will split the data and automatically choose train/test\n",
    "Accuracy_Values=cross_val_score(RegModel, X , y, cv=10, scoring=custom_Scoring)\n",
    "print('\\nAccuracy values for 10-fold Cross Validation:\\n',Accuracy_Values)\n",
    "print('\\nFinal Average Accuracy of the model:', round(Accuracy_Values.mean(),2))"
   ]
  },
  {
   "cell_type": "markdown",
   "id": "d1682378",
   "metadata": {},
   "source": [
    "### Random Forest\n"
   ]
  },
  {
   "cell_type": "code",
   "execution_count": 37,
   "id": "1ba3c2e3",
   "metadata": {},
   "outputs": [
    {
     "name": "stdout",
     "output_type": "stream",
     "text": [
      "RandomForestRegressor(criterion='mse', max_depth=4, n_estimators=400)\n",
      "R2 Value: 0.8923186203115225\n",
      "\n",
      "##### Model Validation and Accuracy Calculations ##########\n",
      "         RM   PTRATIO     LSTAT       RAD  CHAS  MEDV  PredictedMEDV\n",
      "0  0.547040  0.425532  0.201711  0.173913   0.0  23.6           22.0\n",
      "1  0.612569  0.531915  0.049669  0.130435   1.0  32.4           32.0\n",
      "2  0.464074  0.797872  0.450883  0.130435   0.0  13.6           17.0\n",
      "3  0.479785  0.702128  0.104581  0.130435   0.0  22.8           24.0\n",
      "4  0.524238  0.808511  0.428808  1.000000   0.0  16.1           16.0\n",
      "Mean Accuracy on test data: 86.18904662599535\n",
      "Median Accuracy on test data: 91.75257731958762\n",
      "\n",
      "Accuracy values for 10-fold Cross Validation:\n",
      " [88.96741592 93.1945458  87.17792256 88.05722533 88.66098103 90.06926993\n",
      " 86.30620166 61.88145603 73.61625401 80.79391011]\n",
      "\n",
      "Final Average Accuracy of the model: 83.87\n"
     ]
    },
    {
     "data": {
      "image/png": "[encoded data removed]",
      "text/plain": [
       "<Figure size 432x288 with 1 Axes>"
      ]
     },
     "metadata": {
      "needs_background": "light"
     },
     "output_type": "display_data"
    }
   ],
   "source": [
    "# Random Forest (Bagging of multiple Decision Trees)\n",
    "from sklearn.ensemble import RandomForestRegressor\n",
    "RegModel = RandomForestRegressor(max_depth=4, n_estimators=400,criterion='mse')\n",
    "# Good range for max_depth: 2-10 and n_estimators: 100-1000\n",
    "\n",
    "# Printing all the parameters of Random Forest\n",
    "print(RegModel)\n",
    "\n",
    "# Creating the model on Training Data\n",
    "RF=RegModel.fit(X_train,y_train)\n",
    "prediction=RF.predict(X_test)\n",
    "\n",
    "from sklearn import metrics\n",
    "# Measuring Goodness of fit in Training data\n",
    "print('R2 Value:',metrics.r2_score(y_train, RF.predict(X_train)))\n",
    "\n",
    "# Plotting the feature importance for Top 10 most important columns\n",
    "%matplotlib inline\n",
    "feature_importances = pd.Series(RF.feature_importances_, index=Predictors)\n",
    "feature_importances.nlargest(10).plot(kind='barh')\n",
    "\n",
    "###########################################################################\n",
    "print('\\n##### Model Validation and Accuracy Calculations ##########')\n",
    "\n",
    "# Printing some sample values of prediction\n",
    "TestingDataResults=pd.DataFrame(data=X_test, columns=Predictors)\n",
    "TestingDataResults[TargetVariable]=y_test\n",
    "TestingDataResults[('Predicted'+TargetVariable)]=np.round(prediction)\n",
    "\n",
    "# Printing sample prediction values\n",
    "print(TestingDataResults.head())\n",
    "\n",
    "# Calculating the error for each row\n",
    "TestingDataResults['APE']=100 * ((abs(\n",
    "  TestingDataResults['MEDV']-TestingDataResults['PredictedMEDV']))/TestingDataResults['MEDV'])\n",
    "\n",
    "MAPE=np.mean(TestingDataResults['APE'])\n",
    "MedianMAPE=np.median(TestingDataResults['APE'])\n",
    "\n",
    "Accuracy =100 - MAPE\n",
    "MedianAccuracy=100- MedianMAPE\n",
    "print('Mean Accuracy on test data:', Accuracy) # Can be negative sometimes due to outlier\n",
    "print('Median Accuracy on test data:', MedianAccuracy)\n",
    "\n",
    "\n",
    "# Defining a custom function to calculate accuracy\n",
    "# Make sure there are no zeros in the Target variable if you are using MAPE\n",
    "def Accuracy_Score(orig,pred):\n",
    "    MAPE = np.mean(100 * (np.abs(orig-pred)/orig))\n",
    "    #print('#'*70,'Accuracy:', 100-MAPE)\n",
    "    return(100-MAPE)\n",
    "\n",
    "# Custom Scoring MAPE calculation\n",
    "from sklearn.metrics import make_scorer\n",
    "custom_Scoring=make_scorer(Accuracy_Score, greater_is_better=True)\n",
    "\n",
    "# Importing cross validation function from sklearn\n",
    "from sklearn.model_selection import cross_val_score\n",
    "\n",
    "# Running 10-Fold Cross validation on a given algorithm\n",
    "# Passing full data X and y because the K-fold will split the data and automatically choose train/test\n",
    "Accuracy_Values=cross_val_score(RegModel, X , y, cv=10, scoring=custom_Scoring)\n",
    "print('\\nAccuracy values for 10-fold Cross Validation:\\n',Accuracy_Values)\n",
    "print('\\nFinal Average Accuracy of the model:', round(Accuracy_Values.mean(),2))"
   ]
  },
  {
   "cell_type": "markdown",
   "id": "8a6c95f1",
   "metadata": {},
   "source": [
    "### KNN"
   ]
  },
  {
   "cell_type": "code",
   "execution_count": 38,
   "id": "1fc01362",
   "metadata": {},
   "outputs": [
    {
     "name": "stdout",
     "output_type": "stream",
     "text": [
      "KNeighborsRegressor(n_neighbors=3)\n",
      "R2 Value: 0.8876178537009081\n",
      "\n",
      "##### Model Validation and Accuracy Calculations ##########\n",
      "         RM   PTRATIO     LSTAT       RAD  CHAS  MEDV  PredictedMEDV\n",
      "0  0.547040  0.425532  0.201711  0.173913   0.0  23.6           25.0\n",
      "1  0.612569  0.531915  0.049669  0.130435   1.0  32.4           34.0\n",
      "2  0.464074  0.797872  0.450883  0.130435   0.0  13.6           16.0\n",
      "3  0.479785  0.702128  0.104581  0.130435   0.0  22.8           23.0\n",
      "4  0.524238  0.808511  0.428808  1.000000   0.0  16.1           15.0\n",
      "Mean Accuracy on test data: 85.9476312344639\n",
      "Median Accuracy on test data: 89.82758620689656\n",
      "\n",
      "Accuracy values for 10-fold Cross Validation:\n",
      " [86.76784363 89.2951359  87.20118045 84.89757598 86.22512671 89.58047045\n",
      " 88.19801647 61.55065249 75.95669044 78.49115516]\n",
      "\n",
      "Final Average Accuracy of the model: 82.82\n"
     ]
    }
   ],
   "source": [
    "# K-Nearest Neighbor(KNN)\n",
    "from sklearn.neighbors import KNeighborsRegressor\n",
    "RegModel = KNeighborsRegressor(n_neighbors=3)\n",
    "\n",
    "# Printing all the parameters of KNN\n",
    "print(RegModel)\n",
    "\n",
    "# Creating the model on Training Data\n",
    "KNN=RegModel.fit(X_train,y_train)\n",
    "prediction=KNN.predict(X_test)\n",
    "\n",
    "from sklearn import metrics\n",
    "# Measuring Goodness of fit in Training data\n",
    "print('R2 Value:',metrics.r2_score(y_train, KNN.predict(X_train)))\n",
    "\n",
    "# Plotting the feature importance for Top 10 most important columns\n",
    "# The variable importance chart is not available for KNN\n",
    "\n",
    "###########################################################################\n",
    "print('\\n##### Model Validation and Accuracy Calculations ##########')\n",
    "\n",
    "# Printing some sample values of prediction\n",
    "TestingDataResults=pd.DataFrame(data=X_test, columns=Predictors)\n",
    "TestingDataResults[TargetVariable]=y_test\n",
    "TestingDataResults[('Predicted'+TargetVariable)]=np.round(prediction)\n",
    "\n",
    "# Printing sample prediction values\n",
    "print(TestingDataResults.head())\n",
    "\n",
    "# Calculating the error for each row\n",
    "TestingDataResults['APE']=100 * ((abs(\n",
    "  TestingDataResults['MEDV']-TestingDataResults['PredictedMEDV']))/TestingDataResults['MEDV'])\n",
    "\n",
    "MAPE=np.mean(TestingDataResults['APE'])\n",
    "MedianMAPE=np.median(TestingDataResults['APE'])\n",
    "\n",
    "Accuracy =100 - MAPE\n",
    "MedianAccuracy=100- MedianMAPE\n",
    "print('Mean Accuracy on test data:', Accuracy) # Can be negative sometimes due to outlier\n",
    "print('Median Accuracy on test data:', MedianAccuracy)\n",
    "\n",
    "# Defining a custom function to calculate accuracy\n",
    "# Make sure there are no zeros in the Target variable if you are using MAPE\n",
    "def Accuracy_Score(orig,pred):\n",
    "    MAPE = np.mean(100 * (np.abs(orig-pred)/orig))\n",
    "    #print('#'*70,'Accuracy:', 100-MAPE)\n",
    "    return(100-MAPE)\n",
    "\n",
    "# Custom Scoring MAPE calculation\n",
    "from sklearn.metrics import make_scorer\n",
    "custom_Scoring=make_scorer(Accuracy_Score, greater_is_better=True)\n",
    "\n",
    "# Importing cross validation function from sklearn\n",
    "from sklearn.model_selection import cross_val_score\n",
    "\n",
    "# Running 10-Fold Cross validation on a given algorithm\n",
    "# Passing full data X and y because the K-fold will split the data and automatically choose train/test\n",
    "Accuracy_Values=cross_val_score(RegModel, X , y, cv=10, scoring=custom_Scoring)\n",
    "print('\\nAccuracy values for 10-fold Cross Validation:\\n',Accuracy_Values)\n",
    "print('\\nFinal Average Accuracy of the model:', round(Accuracy_Values.mean(),2))"
   ]
  }
 ],
 "metadata": {
  "kernelspec": {
   "display_name": "Python 3",
   "language": "python",
   "name": "python3"
  },
  "language_info": {
   "codemirror_mode": {
    "name": "ipython",
    "version": 3
   },
   "file_extension": ".py",
   "mimetype": "text/x-python",
   "name": "python",
   "nbconvert_exporter": "python",
   "pygments_lexer": "ipython3",
   "version": "3.8.8"
  }
 },
 "nbformat": 4,
 "nbformat_minor": 5
}
