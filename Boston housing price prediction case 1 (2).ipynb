{
 "cells": [
  {
   "cell_type": "markdown",
   "id": "c34b5673",
   "metadata": {},
   "source": [
    "                                       Boston housing price prediction case\n",
    "   ## Anis Namouchi"
   ]
  },
  {
   "cell_type": "markdown",
   "id": "95d2ac90",
   "metadata": {},
   "source": [
    "### Loading and Overview of the Dataset"
   ]
  },
  {
   "cell_type": "code",
   "execution_count": 87,
   "id": "f6443b36",
   "metadata": {},
   "outputs": [],
   "source": [
    "import pandas as pd\n"
   ]
  },
  {
   "cell_type": "code",
   "execution_count": 88,
   "id": "279ccf73",
   "metadata": {},
   "outputs": [],
   "source": [
    "boston_url = 'https://cf-courses-data.s3.us.cloud-object-storage.appdomain.cloud/IBMDeveloperSkillsNetwork-ST0151EN-SkillsNetwork/labs/boston_housing.csv'\n",
    "boston_df=pd.read_csv(boston_url)"
   ]
  },
  {
   "cell_type": "code",
   "execution_count": 89,
   "id": "da444e5b",
   "metadata": {},
   "outputs": [
    {
     "data": {
      "text/html": [
       "<div>\n",
       "<style scoped>\n",
       "    .dataframe tbody tr th:only-of-type {\n",
       "        vertical-align: middle;\n",
       "    }\n",
       "\n",
       "    .dataframe tbody tr th {\n",
       "        vertical-align: top;\n",
       "    }\n",
       "\n",
       "    .dataframe thead th {\n",
       "        text-align: right;\n",
       "    }\n",
       "</style>\n",
       "<table border=\"1\" class=\"dataframe\">\n",
       "  <thead>\n",
       "    <tr style=\"text-align: right;\">\n",
       "      <th></th>\n",
       "      <th>Unnamed: 0</th>\n",
       "      <th>CRIM</th>\n",
       "      <th>ZN</th>\n",
       "      <th>INDUS</th>\n",
       "      <th>CHAS</th>\n",
       "      <th>NOX</th>\n",
       "      <th>RM</th>\n",
       "      <th>AGE</th>\n",
       "      <th>DIS</th>\n",
       "      <th>RAD</th>\n",
       "      <th>TAX</th>\n",
       "      <th>PTRATIO</th>\n",
       "      <th>LSTAT</th>\n",
       "      <th>MEDV</th>\n",
       "    </tr>\n",
       "  </thead>\n",
       "  <tbody>\n",
       "    <tr>\n",
       "      <th>0</th>\n",
       "      <td>0</td>\n",
       "      <td>0.00632</td>\n",
       "      <td>18.0</td>\n",
       "      <td>2.31</td>\n",
       "      <td>0.0</td>\n",
       "      <td>0.538</td>\n",
       "      <td>6.575</td>\n",
       "      <td>65.2</td>\n",
       "      <td>4.0900</td>\n",
       "      <td>1.0</td>\n",
       "      <td>296.0</td>\n",
       "      <td>15.3</td>\n",
       "      <td>4.98</td>\n",
       "      <td>24.0</td>\n",
       "    </tr>\n",
       "    <tr>\n",
       "      <th>1</th>\n",
       "      <td>1</td>\n",
       "      <td>0.02731</td>\n",
       "      <td>0.0</td>\n",
       "      <td>7.07</td>\n",
       "      <td>0.0</td>\n",
       "      <td>0.469</td>\n",
       "      <td>6.421</td>\n",
       "      <td>78.9</td>\n",
       "      <td>4.9671</td>\n",
       "      <td>2.0</td>\n",
       "      <td>242.0</td>\n",
       "      <td>17.8</td>\n",
       "      <td>9.14</td>\n",
       "      <td>21.6</td>\n",
       "    </tr>\n",
       "    <tr>\n",
       "      <th>2</th>\n",
       "      <td>2</td>\n",
       "      <td>0.02729</td>\n",
       "      <td>0.0</td>\n",
       "      <td>7.07</td>\n",
       "      <td>0.0</td>\n",
       "      <td>0.469</td>\n",
       "      <td>7.185</td>\n",
       "      <td>61.1</td>\n",
       "      <td>4.9671</td>\n",
       "      <td>2.0</td>\n",
       "      <td>242.0</td>\n",
       "      <td>17.8</td>\n",
       "      <td>4.03</td>\n",
       "      <td>34.7</td>\n",
       "    </tr>\n",
       "    <tr>\n",
       "      <th>3</th>\n",
       "      <td>3</td>\n",
       "      <td>0.03237</td>\n",
       "      <td>0.0</td>\n",
       "      <td>2.18</td>\n",
       "      <td>0.0</td>\n",
       "      <td>0.458</td>\n",
       "      <td>6.998</td>\n",
       "      <td>45.8</td>\n",
       "      <td>6.0622</td>\n",
       "      <td>3.0</td>\n",
       "      <td>222.0</td>\n",
       "      <td>18.7</td>\n",
       "      <td>2.94</td>\n",
       "      <td>33.4</td>\n",
       "    </tr>\n",
       "    <tr>\n",
       "      <th>4</th>\n",
       "      <td>4</td>\n",
       "      <td>0.06905</td>\n",
       "      <td>0.0</td>\n",
       "      <td>2.18</td>\n",
       "      <td>0.0</td>\n",
       "      <td>0.458</td>\n",
       "      <td>7.147</td>\n",
       "      <td>54.2</td>\n",
       "      <td>6.0622</td>\n",
       "      <td>3.0</td>\n",
       "      <td>222.0</td>\n",
       "      <td>18.7</td>\n",
       "      <td>5.33</td>\n",
       "      <td>36.2</td>\n",
       "    </tr>\n",
       "  </tbody>\n",
       "</table>\n",
       "</div>"
      ],
      "text/plain": [
       "   Unnamed: 0     CRIM    ZN  INDUS  CHAS    NOX     RM   AGE     DIS  RAD  \\\n",
       "0           0  0.00632  18.0   2.31   0.0  0.538  6.575  65.2  4.0900  1.0   \n",
       "1           1  0.02731   0.0   7.07   0.0  0.469  6.421  78.9  4.9671  2.0   \n",
       "2           2  0.02729   0.0   7.07   0.0  0.469  7.185  61.1  4.9671  2.0   \n",
       "3           3  0.03237   0.0   2.18   0.0  0.458  6.998  45.8  6.0622  3.0   \n",
       "4           4  0.06905   0.0   2.18   0.0  0.458  7.147  54.2  6.0622  3.0   \n",
       "\n",
       "     TAX  PTRATIO  LSTAT  MEDV  \n",
       "0  296.0     15.3   4.98  24.0  \n",
       "1  242.0     17.8   9.14  21.6  \n",
       "2  242.0     17.8   4.03  34.7  \n",
       "3  222.0     18.7   2.94  33.4  \n",
       "4  222.0     18.7   5.33  36.2  "
      ]
     },
     "execution_count": 89,
     "metadata": {},
     "output_type": "execute_result"
    }
   ],
   "source": [
    "boston_df.head()\n"
   ]
  },
  {
   "cell_type": "markdown",
   "id": "e563a108",
   "metadata": {},
   "source": [
    "### Variable Description\n",
    "\n",
    "CRIM - per capita crime rate by town\n",
    "\n",
    "ZN - proportion of residential land zoned for lots over 25,000 sq.ft.\n",
    "\n",
    "INDUS - proportion of non-retail business acres per town.\n",
    "\n",
    "CHAS - Charles River dummy variable (1 if tract bounds river; 0 otherwise)\n",
    "\n",
    "NOX - nitric oxides concentration (parts per 10 million)\n",
    "\n",
    "RM - average number of rooms per dwelling\n",
    "\n",
    "AGE - proportion of owner-occupied units built prior to 1940\n",
    "\n",
    "DIS - weighted distances to five Boston employment centres\n",
    "\n",
    "RAD - index of accessibility to radial highways\n",
    "\n",
    "TAX - full-value property-tax rate per $10,000\n",
    "\n",
    "PTRATIO - pupil-teacher ratio by town\n",
    "\n",
    "LSTAT - % lower status of the population\n",
    "\n",
    "MEDV - Median value of owner-occupied homes in $1000's\n",
    "\n"
   ]
  },
  {
   "cell_type": "markdown",
   "id": "c8b8e156",
   "metadata": {},
   "source": [
    "### Descriptive Statistics and Visualizations\n"
   ]
  },
  {
   "cell_type": "code",
   "execution_count": null,
   "id": "c54f5d31",
   "metadata": {},
   "outputs": [],
   "source": [
    "#importing important libraries\n",
    "import numpy as np\n",
    "import pandas as pd\n",
    "import seaborn as sns\n",
    "import matplotlib.pyplot as plt "
   ]
  },
  {
   "cell_type": "markdown",
   "id": "e38e928e",
   "metadata": {},
   "source": [
    "### Median value of owner-occupied homes\n"
   ]
  },
  {
   "cell_type": "markdown",
   "id": "eb967acd",
   "metadata": {},
   "source": [
    "For the \"Median value of owner-occupied homes\" provide a boxplot\n",
    "\n"
   ]
  },
  {
   "cell_type": "code",
   "execution_count": 90,
   "id": "df32700d",
   "metadata": {},
   "outputs": [
    {
     "data": {
      "text/plain": [
       "[Text(0, 0.5, \"Median value of owner-occupied homes in $1000's\"),\n",
       " Text(0.5, 0, 'Boxplot'),\n",
       " Text(0.5, 1.0, 'Boxplot for Median value of owner-occupied homes')]"
      ]
     },
     "execution_count": 90,
     "metadata": {},
     "output_type": "execute_result"
    },
    {
     "data": {
      "image/png": "[encoded data removed]",
      "text/plain": [
       "<Figure size 432x288 with 1 Axes>"
      ]
     },
     "metadata": {
      "needs_background": "light"
     },
     "output_type": "display_data"
    }
   ],
   "source": [
    "# Display a Boxplot for the \"Median value of owner-occupied homes in $1000's\" column.\n",
    "\n",
    "box = sns.boxplot(y = 'MEDV', data = boston_df)\n",
    "box.set(ylabel = \"Median value of owner-occupied homes in $1000's\"\n",
    "        , xlabel = \"Boxplot\"\n",
    "        , title = \"Boxplot for Median value of owner-occupied homes\")"
   ]
  },
  {
   "cell_type": "markdown",
   "id": "43f6564b",
   "metadata": {},
   "source": [
    "EXPLANATION - The Boxplot shown here corresponds to Median value of owner-occupied homes in $1000's and we can see that there are various outliers below the first quartile. The Median as per the BoxPlot is shown in the plot as approximately 21 or 22."
   ]
  },
  {
   "cell_type": "markdown",
   "id": "69b9d64a",
   "metadata": {},
   "source": [
    "### Histogram for the Charles river variable\n"
   ]
  },
  {
   "cell_type": "code",
   "execution_count": 91,
   "id": "332878cb",
   "metadata": {},
   "outputs": [
    {
     "data": {
      "text/plain": [
       "[Text(0.5, 0, 'Charles River dummy variable (1 if tract bounds river; 0 otherwise)'),\n",
       " Text(0, 0.5, 'Frequency for Charles river variable'),\n",
       " Text(0.5, 1.0, 'Histogram for the Charles river variable')]"
      ]
     },
     "execution_count": 91,
     "metadata": {},
     "output_type": "execute_result"
    },
    {
     "data": {
      "image/png": "[encoded data removed]",
      "text/plain": [
       "<Figure size 432x288 with 1 Axes>"
      ]
     },
     "metadata": {
      "needs_background": "light"
     },
     "output_type": "display_data"
    }
   ],
   "source": [
    "# Display a Histogram for the Charles River dummy variable which is a Dummy Variable.\n",
    "\n",
    "distplot = sns.distplot(boston_df['CHAS'])\n",
    "distplot.set(xlabel = \"Charles River dummy variable (1 if tract bounds river; 0 otherwise)\"\n",
    "             ,ylabel = \"Frequency for Charles river variable\"\n",
    "            , title = \"Histogram for the Charles river variable\")"
   ]
  },
  {
   "cell_type": "markdown",
   "id": "c8a8d4ed",
   "metadata": {},
   "source": [
    "EXPLANATION - The Histogram shows the Frequency Distribution for Charles River dummy variable where (1 if tract bounds river; 0 otherwise)\n",
    "\n"
   ]
  },
  {
   "cell_type": "markdown",
   "id": "a6c4318c",
   "metadata": {},
   "source": [
    "### Boxplot for the MEDV variable vs the AGE variable\n"
   ]
  },
  {
   "cell_type": "markdown",
   "id": "aebf09dc",
   "metadata": {},
   "source": [
    "Provide a boxplot for the MEDV variable vs the AGE variable. (Discretize the age variable into three groups of 35 years and younger, between 35 and 70 years and 70 years and older)\n",
    "\n"
   ]
  },
  {
   "cell_type": "code",
   "execution_count": 75,
   "id": "7cc9b01f",
   "metadata": {},
   "outputs": [],
   "source": [
    "boston_df.loc[(boston_df.AGE <= 35), 'age_group'] = '35 years and younger'\n",
    "boston_df.loc[((boston_df.AGE > 35)&(BostonData.AGE < 70)), 'age_group'] = 'between 35 and 70 years'\n",
    "boston_df.loc[(boston_df.AGE >= 70), 'age_group'] = '70 years and older'"
   ]
  },
  {
   "cell_type": "code",
   "execution_count": 76,
   "id": "43089558",
   "metadata": {},
   "outputs": [
    {
     "data": {
      "image/png": "[encoded data removed]",
      "text/plain": [
       "<Figure size 432x288 with 1 Axes>"
      ]
     },
     "metadata": {
      "needs_background": "light"
     },
     "output_type": "display_data"
    }
   ],
   "source": [
    "ax = sns.boxplot(x='age_group', y='MEDV', data=boston_df)\n",
    "plt.title(\"Median value vs Age Groups\")\n",
    "plt.ylabel(\"Median Value\");"
   ]
  },
  {
   "cell_type": "markdown",
   "id": "06c6d072",
   "metadata": {},
   "source": [
    "EXPLANATION - The Boxplot corresponds to the various groups in the AGE column and there are three groups which are 35 years and younger, Between 35 and 70 years and 70 years and older. The Median for the group \"35 years and younger\" is approximately 25, for \"70 years and older\" the Median is approximately 19 and for \"Between 35 and 70 years\" group the Median is approximately 22."
   ]
  },
  {
   "cell_type": "markdown",
   "id": "b063b766",
   "metadata": {},
   "source": [
    "### Relationship between Nitric Oxide Concentrations and The Proportion of Non-retail Business Acres Per Town\n"
   ]
  },
  {
   "cell_type": "markdown",
   "id": "1aebe916",
   "metadata": {},
   "source": [
    "Provide a scatter plot to show the relationship between Nitric oxide concentrations and the proportion of non-retail business acres per town. What can you say about the relationship?\n",
    "\n"
   ]
  },
  {
   "cell_type": "code",
   "execution_count": 92,
   "id": "5675b593",
   "metadata": {},
   "outputs": [
    {
     "data": {
      "text/plain": [
       "[Text(0, 0.5, 'Nitric Oxides concentration (parts per 10 million)'),\n",
       " Text(0.5, 0, 'Proportion of non-retail business acres per town.'),\n",
       " Text(0.5, 1.0, 'Scatter Plot between NOX and INDUS')]"
      ]
     },
     "execution_count": 92,
     "metadata": {},
     "output_type": "execute_result"
    },
    {
     "data": {
      "image/png": "[encoded data removed]",
      "text/plain": [
       "<Figure size 432x288 with 1 Axes>"
      ]
     },
     "metadata": {
      "needs_background": "light"
     },
     "output_type": "display_data"
    }
   ],
   "source": [
    "# ScatterPlot for correlation between the INDUS and NOX column.\n",
    "\n",
    "scatter = sns.scatterplot(x = 'INDUS', y = 'NOX', data = boston_df)\n",
    "scatter.set(ylabel = \"Nitric Oxides concentration (parts per 10 million)\"\n",
    "            , xlabel = \"Proportion of non-retail business acres per town.\"\n",
    "           , title = \"Scatter Plot between NOX and INDUS\")"
   ]
  },
  {
   "cell_type": "markdown",
   "id": "6202e523",
   "metadata": {},
   "source": [
    "===>EXPLANATION - The Scatter Plot shows that there is a high correlation or positive correlation between the Nitric Oxides concentration (parts per 10 million) and Proportion of non-retail business acres per town as there is a near linear relationship between both of them.\n",
    "\n",
    "\n"
   ]
  },
  {
   "cell_type": "markdown",
   "id": "528a9caa",
   "metadata": {},
   "source": [
    "### histogram for the pupil to teacher ratio variable\n"
   ]
  },
  {
   "cell_type": "code",
   "execution_count": 93,
   "id": "ec77821c",
   "metadata": {},
   "outputs": [
    {
     "data": {
      "text/plain": [
       "[Text(0.5, 0, 'Pupil-Teacher ratio by town'),\n",
       " Text(0, 0.5, 'Frequency of Pupil-Teacher ratio by town'),\n",
       " Text(0.5, 1.0, 'Histogram for the pupil to teacher ratio variable')]"
      ]
     },
     "execution_count": 93,
     "metadata": {},
     "output_type": "execute_result"
    },
    {
     "data": {
      "image/png": "[encoded data removed]",
      "text/plain": [
       "<Figure size 432x288 with 1 Axes>"
      ]
     },
     "metadata": {
      "needs_background": "light"
     },
     "output_type": "display_data"
    }
   ],
   "source": [
    "# Display a Histogram for the PTRATIO column.\n",
    "\n",
    "histplot = sns.distplot(boston_df['PTRATIO'])\n",
    "histplot.set(xlabel = \"Pupil-Teacher ratio by town\"\n",
    "             , ylabel = \"Frequency of Pupil-Teacher ratio by town\"\n",
    "            , title = \"Histogram for the pupil to teacher ratio variable\")"
   ]
  },
  {
   "cell_type": "markdown",
   "id": "e2f461ec",
   "metadata": {},
   "source": [
    "EXPLANTION - The Histogram mentioned above corresponds to the Frequency Distribution of Pupil-Teacher ratio by town. The highest corresponds to the 20 - 22 bin group. We can also see that the distribution is skewed to the left as the tail of the histogram is towards the 12 on the x-axis. This is called as the Negative-skewed Distribution."
   ]
  },
  {
   "cell_type": "markdown",
   "id": "249be727",
   "metadata": {},
   "source": [
    "### Answering Questions\n"
   ]
  },
  {
   "cell_type": "markdown",
   "id": "d45e5370",
   "metadata": {},
   "source": [
    "### Question 1 "
   ]
  },
  {
   "cell_type": "code",
   "execution_count": 57,
   "id": "f7c0da38",
   "metadata": {},
   "outputs": [],
   "source": [
    "#Stating Hypothesis\n",
    "\n",
    "#   \\(H_0: µ_1 = µ_2\\) (\"there is no difference in between the median value of houses bounded by Charles river and not bounded.\")\n",
    "\n",
    "#   \\(H_a: µ_1 ≠ µ_2\\) (\"there is a difference in between the median value of houses bounded by Charles river and not bounded.\")\n",
    "\n",
    "#  Setting α to 0.05"
   ]
  },
  {
   "cell_type": "code",
   "execution_count": 94,
   "id": "9fe8a674",
   "metadata": {},
   "outputs": [
    {
     "data": {
      "text/plain": [
       "LeveneResult(statistic=532.6811164157676, pvalue=5.40253511973145e-95)"
      ]
     },
     "execution_count": 94,
     "metadata": {},
     "output_type": "execute_result"
    }
   ],
   "source": [
    "scipy.stats.levene(boston_df['MEDV'], boston_df['CHAS'], center = 'mean')"
   ]
  },
  {
   "cell_type": "code",
   "execution_count": 95,
   "id": "8307e4a9",
   "metadata": {},
   "outputs": [
    {
     "data": {
      "text/plain": [
       "Ttest_indResult(statistic=54.9210289745203, pvalue=1.4651540072350996e-305)"
      ]
     },
     "execution_count": 95,
     "metadata": {},
     "output_type": "execute_result"
    }
   ],
   "source": [
    "scipy.stats.ttest_ind(boston_df['MEDV'], boston_df['CHAS'])"
   ]
  },
  {
   "cell_type": "markdown",
   "id": "38c56ba6",
   "metadata": {},
   "source": [
    "====> Conclusion: Since the p-value is less than 0.05, we will reject the null hypothesis as there is no significance difference in median value of houses bounded by Charles river and not.\n"
   ]
  },
  {
   "cell_type": "markdown",
   "id": "9730026c",
   "metadata": {},
   "source": [
    "### Question 2 "
   ]
  },
  {
   "cell_type": "code",
   "execution_count": 58,
   "id": "0d7dd61f",
   "metadata": {},
   "outputs": [],
   "source": [
    "#Stating Hypothesis\n",
    "\n",
    "# Null Hypothesis: There is no difference in median values of houses for occupied units built prior to 1940.\n",
    "# Alternative Hypothesis: There is a difference in median values of houses for occupied units built prior to 1940.\n",
    "# Setting alpha = 0.05"
   ]
  },
  {
   "cell_type": "code",
   "execution_count": 97,
   "id": "6f2ad508",
   "metadata": {},
   "outputs": [],
   "source": [
    "boston_df.loc[boston_df['AGE'] <= 30, 'Age_Group'] = \"35 and younger\"\n",
    "boston_df.loc[(boston_df['AGE'] > 30) & (boston_df['AGE'] < 70), 'Age_Group'] = \"Between 35 and 70\"\n",
    "boston_df.loc[(boston_df['AGE'] >= 70), 'Age_Group'] = \"70 and older\""
   ]
  },
  {
   "cell_type": "code",
   "execution_count": 98,
   "id": "391ab039",
   "metadata": {},
   "outputs": [
    {
     "data": {
      "text/plain": [
       "LeveneResult(statistic=1.9263167703439688, pvalue=0.14675700390882251)"
      ]
     },
     "execution_count": 98,
     "metadata": {},
     "output_type": "execute_result"
    }
   ],
   "source": [
    "scipy.stats.levene(boston_df[boston_df['Age_Group'] == \"35 and younger\"]['MEDV'],\n",
    "                   boston_df[boston_df['Age_Group'] == \"Between 35 and 70\"]['MEDV'], \n",
    "                   boston_df[boston_df['Age_Group'] == \"70 and older\"]['MEDV'], \n",
    "                   center='mean')"
   ]
  },
  {
   "cell_type": "code",
   "execution_count": 99,
   "id": "9cc7884d",
   "metadata": {},
   "outputs": [],
   "source": [
    "thirtyfive_lower = boston_df[boston_df['Age_Group'] == \"35 and younger\"]['MEDV']\n",
    "thirtyfive_seventy = boston_df[boston_df['Age_Group'] == \"Between 35 and 70\"]['MEDV']\n",
    "seventy_older = boston_df[boston_df['Age_Group'] == \"70 and older\"]['MEDV']"
   ]
  },
  {
   "cell_type": "code",
   "execution_count": 100,
   "id": "4f54c414",
   "metadata": {},
   "outputs": [
    {
     "data": {
      "text/plain": [
       "F_onewayResult(statistic=34.249179272635395, pvalue=1.135217093487225e-14)"
      ]
     },
     "execution_count": 100,
     "metadata": {},
     "output_type": "execute_result"
    }
   ],
   "source": [
    "scipy.stats.f_oneway(thirtyfive_lower, thirtyfive_seventy, seventy_older)\n"
   ]
  },
  {
   "cell_type": "markdown",
   "id": "9349f03b",
   "metadata": {},
   "source": [
    "======> Since the p-value is greater than 0.05, we fail to reject the null hypothesis that there is a statistical difference in median values of houses for each proportion of owner occupied units built prior to 1940."
   ]
  },
  {
   "cell_type": "markdown",
   "id": "1c5a78e5",
   "metadata": {},
   "source": [
    "### Question 3"
   ]
  },
  {
   "cell_type": "code",
   "execution_count": 62,
   "id": "bbb14fa6",
   "metadata": {},
   "outputs": [],
   "source": [
    "# Stating Hypothesis:\n",
    "\n",
    "# Null Hypothesis: There is no relationship between Nitric Oxide concentration and proportion of non-retail business acres per town.\n",
    "# Alternative Hypothesis: There is a relationship between Nitric Oxide concentration and proportion of non-retail business acres per town."
   ]
  },
  {
   "cell_type": "code",
   "execution_count": 84,
   "id": "4cc8a44f",
   "metadata": {},
   "outputs": [
    {
     "data": {
      "text/plain": [
       "(0.763651446920915, 7.913361061239593e-98)"
      ]
     },
     "execution_count": 84,
     "metadata": {},
     "output_type": "execute_result"
    }
   ],
   "source": [
    "scipy.stats.pearsonr(boston_df.NOX, boston_df.INDUS)\n"
   ]
  },
  {
   "cell_type": "markdown",
   "id": "3c79e46c",
   "metadata": {},
   "source": [
    "====> Since the p-value is greater than 0.05, we can reject the null hypothesis that there is no relationship between the nitric acid concentration and the proportion of non-retail business acres per town.\n",
    "\n",
    "And as the r value is positive and close to zero, we can conclude that there is a almost strong relationship between these two variables and the relationship curve will be positively sloping.\n",
    "\n",
    "\n",
    "\n"
   ]
  },
  {
   "cell_type": "markdown",
   "id": "528fffb6",
   "metadata": {},
   "source": [
    "### Question 4"
   ]
  },
  {
   "cell_type": "code",
   "execution_count": 86,
   "id": "0bcc7343",
   "metadata": {},
   "outputs": [],
   "source": [
    "import statsmodels.api as sm\n"
   ]
  },
  {
   "cell_type": "code",
   "execution_count": 85,
   "id": "60729ccf",
   "metadata": {},
   "outputs": [
    {
     "data": {
      "text/html": [
       "<table class=\"simpletable\">\n",
       "<caption>OLS Regression Results</caption>\n",
       "<tr>\n",
       "  <th>Dep. Variable:</th>          <td>MEDV</td>       <th>  R-squared:         </th> <td>   0.062</td>\n",
       "</tr>\n",
       "<tr>\n",
       "  <th>Model:</th>                   <td>OLS</td>       <th>  Adj. R-squared:    </th> <td>   0.061</td>\n",
       "</tr>\n",
       "<tr>\n",
       "  <th>Method:</th>             <td>Least Squares</td>  <th>  F-statistic:       </th> <td>   33.58</td>\n",
       "</tr>\n",
       "<tr>\n",
       "  <th>Date:</th>             <td>Tue, 31 May 2022</td> <th>  Prob (F-statistic):</th> <td>1.21e-08</td>\n",
       "</tr>\n",
       "<tr>\n",
       "  <th>Time:</th>                 <td>00:10:39</td>     <th>  Log-Likelihood:    </th> <td> -1823.9</td>\n",
       "</tr>\n",
       "<tr>\n",
       "  <th>No. Observations:</th>      <td>   506</td>      <th>  AIC:               </th> <td>   3652.</td>\n",
       "</tr>\n",
       "<tr>\n",
       "  <th>Df Residuals:</th>          <td>   504</td>      <th>  BIC:               </th> <td>   3660.</td>\n",
       "</tr>\n",
       "<tr>\n",
       "  <th>Df Model:</th>              <td>     1</td>      <th>                     </th>     <td> </td>   \n",
       "</tr>\n",
       "<tr>\n",
       "  <th>Covariance Type:</th>      <td>nonrobust</td>    <th>                     </th>     <td> </td>   \n",
       "</tr>\n",
       "</table>\n",
       "<table class=\"simpletable\">\n",
       "<tr>\n",
       "    <td></td>       <th>coef</th>     <th>std err</th>      <th>t</th>      <th>P>|t|</th>  <th>[0.025</th>    <th>0.975]</th>  \n",
       "</tr>\n",
       "<tr>\n",
       "  <th>const</th> <td>   18.3901</td> <td>    0.817</td> <td>   22.499</td> <td> 0.000</td> <td>   16.784</td> <td>   19.996</td>\n",
       "</tr>\n",
       "<tr>\n",
       "  <th>DIS</th>   <td>    1.0916</td> <td>    0.188</td> <td>    5.795</td> <td> 0.000</td> <td>    0.722</td> <td>    1.462</td>\n",
       "</tr>\n",
       "</table>\n",
       "<table class=\"simpletable\">\n",
       "<tr>\n",
       "  <th>Omnibus:</th>       <td>139.779</td> <th>  Durbin-Watson:     </th> <td>   0.570</td>\n",
       "</tr>\n",
       "<tr>\n",
       "  <th>Prob(Omnibus):</th> <td> 0.000</td>  <th>  Jarque-Bera (JB):  </th> <td> 305.104</td>\n",
       "</tr>\n",
       "<tr>\n",
       "  <th>Skew:</th>          <td> 1.466</td>  <th>  Prob(JB):          </th> <td>5.59e-67</td>\n",
       "</tr>\n",
       "<tr>\n",
       "  <th>Kurtosis:</th>      <td> 5.424</td>  <th>  Cond. No.          </th> <td>    9.32</td>\n",
       "</tr>\n",
       "</table><br/><br/>Notes:<br/>[1] Standard Errors assume that the covariance matrix of the errors is correctly specified."
      ],
      "text/plain": [
       "<class 'statsmodels.iolib.summary.Summary'>\n",
       "\"\"\"\n",
       "                            OLS Regression Results                            \n",
       "==============================================================================\n",
       "Dep. Variable:                   MEDV   R-squared:                       0.062\n",
       "Model:                            OLS   Adj. R-squared:                  0.061\n",
       "Method:                 Least Squares   F-statistic:                     33.58\n",
       "Date:                Tue, 31 May 2022   Prob (F-statistic):           1.21e-08\n",
       "Time:                        00:10:39   Log-Likelihood:                -1823.9\n",
       "No. Observations:                 506   AIC:                             3652.\n",
       "Df Residuals:                     504   BIC:                             3660.\n",
       "Df Model:                           1                                         \n",
       "Covariance Type:            nonrobust                                         \n",
       "==============================================================================\n",
       "                 coef    std err          t      P>|t|      [0.025      0.975]\n",
       "------------------------------------------------------------------------------\n",
       "const         18.3901      0.817     22.499      0.000      16.784      19.996\n",
       "DIS            1.0916      0.188      5.795      0.000       0.722       1.462\n",
       "==============================================================================\n",
       "Omnibus:                      139.779   Durbin-Watson:                   0.570\n",
       "Prob(Omnibus):                  0.000   Jarque-Bera (JB):              305.104\n",
       "Skew:                           1.466   Prob(JB):                     5.59e-67\n",
       "Kurtosis:                       5.424   Cond. No.                         9.32\n",
       "==============================================================================\n",
       "\n",
       "Notes:\n",
       "[1] Standard Errors assume that the covariance matrix of the errors is correctly specified.\n",
       "\"\"\""
      ]
     },
     "execution_count": 85,
     "metadata": {},
     "output_type": "execute_result"
    }
   ],
   "source": [
    "X = boston_df['DIS']\n",
    "\n",
    "y = boston_df['MEDV']\n",
    "\n",
    "X = sm.add_constant(X) \n",
    "\n",
    "model = sm.OLS(y, X).fit()\n",
    "predictions = model.predict(X)\n",
    "\n",
    "model.summary()"
   ]
  },
  {
   "cell_type": "markdown",
   "id": "5cc8ad96",
   "metadata": {},
   "source": [
    "Conclusion: Like the t-test, the p-value is less than the alpha (α) level = 0.05, so we reject the null hypothesis as there is evidence that there is impact of an additional weighted distance to the five Boston employment centres on the median value of owner occupied homes. The coefficient is positive 0.0572 which also signifies that the impact increases by 0.0572 when there is an additional weighted distance to the five Boston employment centres ."
   ]
  }
 ],
 "metadata": {
  "kernelspec": {
   "display_name": "Python 3",
   "language": "python",
   "name": "python3"
  },
  "language_info": {
   "codemirror_mode": {
    "name": "ipython",
    "version": 3
   },
   "file_extension": ".py",
   "mimetype": "text/x-python",
   "name": "python",
   "nbconvert_exporter": "python",
   "pygments_lexer": "ipython3",
   "version": "3.8.8"
  }
 },
 "nbformat": 4,
 "nbformat_minor": 5
}
